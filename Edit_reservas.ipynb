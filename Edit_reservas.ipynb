{
 "cells": [
  {
   "cell_type": "markdown",
   "metadata": {},
   "source": [
    "## Reservas\n",
    "\n",
    "\n",
    "- DataFrame --> df_reservas"
   ]
  },
  {
   "cell_type": "code",
   "execution_count": 1,
   "metadata": {},
   "outputs": [],
   "source": [
    "import pandas as pd\n",
    "import numpy as np\n",
    "import seaborn as sns\n",
    "import matplotlib.pyplot as plt"
   ]
  },
  {
   "cell_type": "code",
   "execution_count": 2,
   "metadata": {},
   "outputs": [
    {
     "data": {
      "text/html": [
       "<div>\n",
       "<style scoped>\n",
       "    .dataframe tbody tr th:only-of-type {\n",
       "        vertical-align: middle;\n",
       "    }\n",
       "\n",
       "    .dataframe tbody tr th {\n",
       "        vertical-align: top;\n",
       "    }\n",
       "\n",
       "    .dataframe thead th {\n",
       "        text-align: right;\n",
       "    }\n",
       "</style>\n",
       "<table border=\"1\" class=\"dataframe\">\n",
       "  <thead>\n",
       "    <tr style=\"text-align: right;\">\n",
       "      <th></th>\n",
       "      <th>Unnamed: 0</th>\n",
       "      <th>1993</th>\n",
       "      <th>1994</th>\n",
       "      <th>1995</th>\n",
       "      <th>1996</th>\n",
       "      <th>1997</th>\n",
       "      <th>1998</th>\n",
       "      <th>1999</th>\n",
       "      <th>2000</th>\n",
       "      <th>2001</th>\n",
       "      <th>...</th>\n",
       "      <th>2011</th>\n",
       "      <th>2012</th>\n",
       "      <th>2013</th>\n",
       "      <th>2014</th>\n",
       "      <th>2015</th>\n",
       "      <th>2016</th>\n",
       "      <th>2017</th>\n",
       "      <th>2018</th>\n",
       "      <th>2019</th>\n",
       "      <th>2020</th>\n",
       "    </tr>\n",
       "  </thead>\n",
       "  <tbody>\n",
       "    <tr>\n",
       "      <th>0</th>\n",
       "      <td>Tipo de cambio</td>\n",
       "      <td>0.8894</td>\n",
       "      <td>0.8027</td>\n",
       "      <td>0.7467</td>\n",
       "      <td>0.7921</td>\n",
       "      <td>0.9135</td>\n",
       "      <td>0.8526</td>\n",
       "      <td>0.9926</td>\n",
       "      <td>1.0611</td>\n",
       "      <td>1.1225</td>\n",
       "      <td>...</td>\n",
       "      <td>0.7727</td>\n",
       "      <td>0.7577</td>\n",
       "      <td>0.7274</td>\n",
       "      <td>0.8264</td>\n",
       "      <td>0.9207</td>\n",
       "      <td>0.9507</td>\n",
       "      <td>0.8333</td>\n",
       "      <td>0.8717</td>\n",
       "      <td>0.8917</td>\n",
       "      <td>0.8185</td>\n",
       "    </tr>\n",
       "  </tbody>\n",
       "</table>\n",
       "<p>1 rows × 29 columns</p>\n",
       "</div>"
      ],
      "text/plain": [
       "       Unnamed: 0    1993    1994    1995    1996    1997    1998    1999  \\\n",
       "0  Tipo de cambio  0.8894  0.8027  0.7467  0.7921  0.9135  0.8526  0.9926   \n",
       "\n",
       "     2000    2001   ...      2011    2012    2013    2014    2015    2016  \\\n",
       "0  1.0611  1.1225   ...    0.7727  0.7577  0.7274  0.8264  0.9207  0.9507   \n",
       "\n",
       "     2017    2018    2019    2020  \n",
       "0  0.8333  0.8717  0.8917  0.8185  \n",
       "\n",
       "[1 rows x 29 columns]"
      ]
     },
     "execution_count": 2,
     "metadata": {},
     "output_type": "execute_result"
    }
   ],
   "source": [
    "root = 'Tipo de cambio- Dolar a Euro.csv'\n",
    "\n",
    "df = pd.read_csv(root)\n",
    "df.head()"
   ]
  },
  {
   "cell_type": "code",
   "execution_count": 3,
   "metadata": {},
   "outputs": [
    {
     "data": {
      "text/plain": [
       "Unnamed: 0     object\n",
       "1993          float64\n",
       "1994          float64\n",
       "1995          float64\n",
       "1996          float64\n",
       "1997          float64\n",
       "1998          float64\n",
       "1999          float64\n",
       "2000          float64\n",
       "2001          float64\n",
       "2002          float64\n",
       "2003          float64\n",
       "2004          float64\n",
       "2005          float64\n",
       "2006          float64\n",
       "2007          float64\n",
       "2008          float64\n",
       "2009          float64\n",
       "2010          float64\n",
       "2011          float64\n",
       "2012          float64\n",
       "2013          float64\n",
       "2014          float64\n",
       "2015          float64\n",
       "2016          float64\n",
       "2017          float64\n",
       "2018          float64\n",
       "2019          float64\n",
       "2020          float64\n",
       "dtype: object"
      ]
     },
     "execution_count": 3,
     "metadata": {},
     "output_type": "execute_result"
    }
   ],
   "source": [
    "df.dtypes"
   ]
  },
  {
   "cell_type": "code",
   "execution_count": 4,
   "metadata": {},
   "outputs": [
    {
     "data": {
      "text/html": [
       "<div>\n",
       "<style scoped>\n",
       "    .dataframe tbody tr th:only-of-type {\n",
       "        vertical-align: middle;\n",
       "    }\n",
       "\n",
       "    .dataframe tbody tr th {\n",
       "        vertical-align: top;\n",
       "    }\n",
       "\n",
       "    .dataframe thead th {\n",
       "        text-align: right;\n",
       "    }\n",
       "</style>\n",
       "<table border=\"1\" class=\"dataframe\">\n",
       "  <thead>\n",
       "    <tr style=\"text-align: right;\">\n",
       "      <th></th>\n",
       "      <th>Unnamed: 0</th>\n",
       "      <th>1993</th>\n",
       "      <th>1994</th>\n",
       "      <th>1995</th>\n",
       "      <th>1996</th>\n",
       "      <th>1997</th>\n",
       "      <th>1998</th>\n",
       "      <th>1999</th>\n",
       "      <th>2000</th>\n",
       "      <th>2001</th>\n",
       "      <th>...</th>\n",
       "      <th>2011</th>\n",
       "      <th>2012</th>\n",
       "      <th>2013</th>\n",
       "      <th>2014</th>\n",
       "      <th>2015</th>\n",
       "      <th>2016</th>\n",
       "      <th>2017</th>\n",
       "      <th>2018</th>\n",
       "      <th>2019</th>\n",
       "      <th>2020</th>\n",
       "    </tr>\n",
       "  </thead>\n",
       "  <tbody>\n",
       "    <tr>\n",
       "      <th>0</th>\n",
       "      <td>Tipo de cambio</td>\n",
       "      <td>0.8894</td>\n",
       "      <td>0.8027</td>\n",
       "      <td>0.7467</td>\n",
       "      <td>0.7921</td>\n",
       "      <td>0.9135</td>\n",
       "      <td>0.8526</td>\n",
       "      <td>0.9926</td>\n",
       "      <td>1.0611</td>\n",
       "      <td>1.1225</td>\n",
       "      <td>...</td>\n",
       "      <td>0.7727</td>\n",
       "      <td>0.7577</td>\n",
       "      <td>0.7274</td>\n",
       "      <td>0.8264</td>\n",
       "      <td>0.9207</td>\n",
       "      <td>0.9507</td>\n",
       "      <td>0.8333</td>\n",
       "      <td>0.8717</td>\n",
       "      <td>0.8917</td>\n",
       "      <td>0.8185</td>\n",
       "    </tr>\n",
       "  </tbody>\n",
       "</table>\n",
       "<p>1 rows × 29 columns</p>\n",
       "</div>"
      ],
      "text/plain": [
       "       Unnamed: 0    1993    1994    1995    1996    1997    1998    1999  \\\n",
       "0  Tipo de cambio  0.8894  0.8027  0.7467  0.7921  0.9135  0.8526  0.9926   \n",
       "\n",
       "     2000    2001   ...      2011    2012    2013    2014    2015    2016  \\\n",
       "0  1.0611  1.1225   ...    0.7727  0.7577  0.7274  0.8264  0.9207  0.9507   \n",
       "\n",
       "     2017    2018    2019    2020  \n",
       "0  0.8333  0.8717  0.8917  0.8185  \n",
       "\n",
       "[1 rows x 29 columns]"
      ]
     },
     "execution_count": 4,
     "metadata": {},
     "output_type": "execute_result"
    }
   ],
   "source": [
    "df.head()"
   ]
  },
  {
   "cell_type": "code",
   "execution_count": 5,
   "metadata": {},
   "outputs": [],
   "source": [
    "df.rename(columns={'Unnamed: 0' : 'variables'}, inplace=True)"
   ]
  },
  {
   "cell_type": "code",
   "execution_count": 6,
   "metadata": {},
   "outputs": [],
   "source": [
    "df= df.replace({'Tipo de cambio': 'Total de reservas(millones€)'})"
   ]
  },
  {
   "cell_type": "code",
   "execution_count": 7,
   "metadata": {},
   "outputs": [
    {
     "data": {
      "text/html": [
       "<div>\n",
       "<style scoped>\n",
       "    .dataframe tbody tr th:only-of-type {\n",
       "        vertical-align: middle;\n",
       "    }\n",
       "\n",
       "    .dataframe tbody tr th {\n",
       "        vertical-align: top;\n",
       "    }\n",
       "\n",
       "    .dataframe thead th {\n",
       "        text-align: right;\n",
       "    }\n",
       "</style>\n",
       "<table border=\"1\" class=\"dataframe\">\n",
       "  <thead>\n",
       "    <tr style=\"text-align: right;\">\n",
       "      <th></th>\n",
       "      <th>country</th>\n",
       "      <th>variables</th>\n",
       "      <th>1993</th>\n",
       "      <th>1994</th>\n",
       "      <th>1995</th>\n",
       "      <th>1996</th>\n",
       "      <th>1997</th>\n",
       "      <th>1998</th>\n",
       "      <th>1999</th>\n",
       "      <th>2000</th>\n",
       "      <th>...</th>\n",
       "      <th>2011</th>\n",
       "      <th>2012</th>\n",
       "      <th>2013</th>\n",
       "      <th>2014</th>\n",
       "      <th>2015</th>\n",
       "      <th>2016</th>\n",
       "      <th>2017</th>\n",
       "      <th>2018</th>\n",
       "      <th>2019</th>\n",
       "      <th>2020</th>\n",
       "    </tr>\n",
       "  </thead>\n",
       "  <tbody>\n",
       "    <tr>\n",
       "      <th>152</th>\n",
       "      <td>MEXICO</td>\n",
       "      <td>Total de reservas(millones€)</td>\n",
       "      <td>2.529870e+10</td>\n",
       "      <td>6.441391e+09</td>\n",
       "      <td>1.704556e+10</td>\n",
       "      <td>1.952691e+10</td>\n",
       "      <td>2.885248e+10</td>\n",
       "      <td>3.186318e+10</td>\n",
       "      <td>3.182840e+10</td>\n",
       "      <td>3.557728e+10</td>\n",
       "      <td>...</td>\n",
       "      <td>1.492081e+11</td>\n",
       "      <td>1.670758e+11</td>\n",
       "      <td>1.802000e+11</td>\n",
       "      <td>1.956816e+11</td>\n",
       "      <td>1.775966e+11</td>\n",
       "      <td>1.779736e+11</td>\n",
       "      <td>1.754697e+11</td>\n",
       "      <td>1.763903e+11</td>\n",
       "      <td>1.830561e+11</td>\n",
       "      <td>NaN</td>\n",
       "    </tr>\n",
       "  </tbody>\n",
       "</table>\n",
       "<p>1 rows × 30 columns</p>\n",
       "</div>"
      ],
      "text/plain": [
       "    country                     variables          1993          1994  \\\n",
       "152  MEXICO  Total de reservas(millones€)  2.529870e+10  6.441391e+09   \n",
       "\n",
       "             1995          1996          1997          1998          1999  \\\n",
       "152  1.704556e+10  1.952691e+10  2.885248e+10  3.186318e+10  3.182840e+10   \n",
       "\n",
       "             2000  ...           2011          2012          2013  \\\n",
       "152  3.557728e+10  ...   1.492081e+11  1.670758e+11  1.802000e+11   \n",
       "\n",
       "             2014          2015          2016          2017          2018  \\\n",
       "152  1.956816e+11  1.775966e+11  1.779736e+11  1.754697e+11  1.763903e+11   \n",
       "\n",
       "             2019  2020  \n",
       "152  1.830561e+11   NaN  \n",
       "\n",
       "[1 rows x 30 columns]"
      ]
     },
     "execution_count": 7,
     "metadata": {},
     "output_type": "execute_result"
    }
   ],
   "source": [
    "root_2 = 'Variables_economicas/reservas.csv'\n",
    "\n",
    "df_reservas = pd.read_csv(root_2, header=0)\n",
    "df_reservas.rename(columns={'Country Name':'country', 'Indicator Name':'variables' }, inplace=True)\n",
    "df_reservas = df_reservas[df_reservas.country == 'México']\n",
    "df_reservas = df_reservas.drop(['Indicator Code', 'Country Code'], axis=1)\n",
    "df_reservas['country'] = df_reservas['country'].replace('México', 'MEXICO')\n",
    "df_reservas= df_reservas.replace({'Total de reservas (incluye oro, US$ a precios actuales)': 'Total de reservas(millones€)'})\n",
    "\n",
    "\n",
    "\n",
    "df_reservas.head()\n"
   ]
  },
  {
   "cell_type": "code",
   "execution_count": 8,
   "metadata": {},
   "outputs": [],
   "source": [
    "df_reservas = df_reservas.drop(['country'], axis=1)"
   ]
  },
  {
   "cell_type": "code",
   "execution_count": 9,
   "metadata": {},
   "outputs": [],
   "source": [
    "df_reservas.set_index('variables', inplace=True)"
   ]
  },
  {
   "cell_type": "code",
   "execution_count": 10,
   "metadata": {},
   "outputs": [
    {
     "data": {
      "text/html": [
       "<div>\n",
       "<style scoped>\n",
       "    .dataframe tbody tr th:only-of-type {\n",
       "        vertical-align: middle;\n",
       "    }\n",
       "\n",
       "    .dataframe tbody tr th {\n",
       "        vertical-align: top;\n",
       "    }\n",
       "\n",
       "    .dataframe thead th {\n",
       "        text-align: right;\n",
       "    }\n",
       "</style>\n",
       "<table border=\"1\" class=\"dataframe\">\n",
       "  <thead>\n",
       "    <tr style=\"text-align: right;\">\n",
       "      <th></th>\n",
       "      <th>1993</th>\n",
       "      <th>1994</th>\n",
       "      <th>1995</th>\n",
       "      <th>1996</th>\n",
       "      <th>1997</th>\n",
       "      <th>1998</th>\n",
       "      <th>1999</th>\n",
       "      <th>2000</th>\n",
       "      <th>2001</th>\n",
       "      <th>2002</th>\n",
       "      <th>...</th>\n",
       "      <th>2011</th>\n",
       "      <th>2012</th>\n",
       "      <th>2013</th>\n",
       "      <th>2014</th>\n",
       "      <th>2015</th>\n",
       "      <th>2016</th>\n",
       "      <th>2017</th>\n",
       "      <th>2018</th>\n",
       "      <th>2019</th>\n",
       "      <th>2020</th>\n",
       "    </tr>\n",
       "    <tr>\n",
       "      <th>variables</th>\n",
       "      <th></th>\n",
       "      <th></th>\n",
       "      <th></th>\n",
       "      <th></th>\n",
       "      <th></th>\n",
       "      <th></th>\n",
       "      <th></th>\n",
       "      <th></th>\n",
       "      <th></th>\n",
       "      <th></th>\n",
       "      <th></th>\n",
       "      <th></th>\n",
       "      <th></th>\n",
       "      <th></th>\n",
       "      <th></th>\n",
       "      <th></th>\n",
       "      <th></th>\n",
       "      <th></th>\n",
       "      <th></th>\n",
       "      <th></th>\n",
       "      <th></th>\n",
       "    </tr>\n",
       "  </thead>\n",
       "  <tbody>\n",
       "    <tr>\n",
       "      <th>Total de reservas(millones€)</th>\n",
       "      <td>2.529870e+10</td>\n",
       "      <td>6.441391e+09</td>\n",
       "      <td>1.704556e+10</td>\n",
       "      <td>1.952691e+10</td>\n",
       "      <td>2.885248e+10</td>\n",
       "      <td>3.186318e+10</td>\n",
       "      <td>3.182840e+10</td>\n",
       "      <td>3.557728e+10</td>\n",
       "      <td>4.480467e+10</td>\n",
       "      <td>5.067145e+10</td>\n",
       "      <td>...</td>\n",
       "      <td>1.492081e+11</td>\n",
       "      <td>1.670758e+11</td>\n",
       "      <td>1.802000e+11</td>\n",
       "      <td>1.956816e+11</td>\n",
       "      <td>1.775966e+11</td>\n",
       "      <td>1.779736e+11</td>\n",
       "      <td>1.754697e+11</td>\n",
       "      <td>1.763903e+11</td>\n",
       "      <td>1.830561e+11</td>\n",
       "      <td>NaN</td>\n",
       "    </tr>\n",
       "  </tbody>\n",
       "</table>\n",
       "<p>1 rows × 28 columns</p>\n",
       "</div>"
      ],
      "text/plain": [
       "                                      1993          1994          1995  \\\n",
       "variables                                                                \n",
       "Total de reservas(millones€)  2.529870e+10  6.441391e+09  1.704556e+10   \n",
       "\n",
       "                                      1996          1997          1998  \\\n",
       "variables                                                                \n",
       "Total de reservas(millones€)  1.952691e+10  2.885248e+10  3.186318e+10   \n",
       "\n",
       "                                      1999          2000          2001  \\\n",
       "variables                                                                \n",
       "Total de reservas(millones€)  3.182840e+10  3.557728e+10  4.480467e+10   \n",
       "\n",
       "                                      2002  ...           2011          2012  \\\n",
       "variables                                   ...                                \n",
       "Total de reservas(millones€)  5.067145e+10  ...   1.492081e+11  1.670758e+11   \n",
       "\n",
       "                                      2013          2014          2015  \\\n",
       "variables                                                                \n",
       "Total de reservas(millones€)  1.802000e+11  1.956816e+11  1.775966e+11   \n",
       "\n",
       "                                      2016          2017          2018  \\\n",
       "variables                                                                \n",
       "Total de reservas(millones€)  1.779736e+11  1.754697e+11  1.763903e+11   \n",
       "\n",
       "                                      2019  2020  \n",
       "variables                                         \n",
       "Total de reservas(millones€)  1.830561e+11   NaN  \n",
       "\n",
       "[1 rows x 28 columns]"
      ]
     },
     "execution_count": 10,
     "metadata": {},
     "output_type": "execute_result"
    }
   ],
   "source": [
    "df_reservas.head()"
   ]
  },
  {
   "cell_type": "code",
   "execution_count": 11,
   "metadata": {},
   "outputs": [
    {
     "data": {
      "text/html": [
       "<div>\n",
       "<style scoped>\n",
       "    .dataframe tbody tr th:only-of-type {\n",
       "        vertical-align: middle;\n",
       "    }\n",
       "\n",
       "    .dataframe tbody tr th {\n",
       "        vertical-align: top;\n",
       "    }\n",
       "\n",
       "    .dataframe thead th {\n",
       "        text-align: right;\n",
       "    }\n",
       "</style>\n",
       "<table border=\"1\" class=\"dataframe\">\n",
       "  <thead>\n",
       "    <tr style=\"text-align: right;\">\n",
       "      <th></th>\n",
       "      <th>1993</th>\n",
       "      <th>1994</th>\n",
       "      <th>1995</th>\n",
       "      <th>1996</th>\n",
       "      <th>1997</th>\n",
       "      <th>1998</th>\n",
       "      <th>1999</th>\n",
       "      <th>2000</th>\n",
       "      <th>2001</th>\n",
       "      <th>2002</th>\n",
       "      <th>...</th>\n",
       "      <th>2011</th>\n",
       "      <th>2012</th>\n",
       "      <th>2013</th>\n",
       "      <th>2014</th>\n",
       "      <th>2015</th>\n",
       "      <th>2016</th>\n",
       "      <th>2017</th>\n",
       "      <th>2018</th>\n",
       "      <th>2019</th>\n",
       "      <th>2020</th>\n",
       "    </tr>\n",
       "    <tr>\n",
       "      <th>variables</th>\n",
       "      <th></th>\n",
       "      <th></th>\n",
       "      <th></th>\n",
       "      <th></th>\n",
       "      <th></th>\n",
       "      <th></th>\n",
       "      <th></th>\n",
       "      <th></th>\n",
       "      <th></th>\n",
       "      <th></th>\n",
       "      <th></th>\n",
       "      <th></th>\n",
       "      <th></th>\n",
       "      <th></th>\n",
       "      <th></th>\n",
       "      <th></th>\n",
       "      <th></th>\n",
       "      <th></th>\n",
       "      <th></th>\n",
       "      <th></th>\n",
       "      <th></th>\n",
       "    </tr>\n",
       "  </thead>\n",
       "  <tbody>\n",
       "    <tr>\n",
       "      <th>Total de reservas(millones€)</th>\n",
       "      <td>25298.703698</td>\n",
       "      <td>6441.390536</td>\n",
       "      <td>17045.558633</td>\n",
       "      <td>19526.913036</td>\n",
       "      <td>28852.477361</td>\n",
       "      <td>31863.18198</td>\n",
       "      <td>31828.401325</td>\n",
       "      <td>35577.279054</td>\n",
       "      <td>44804.667773</td>\n",
       "      <td>50671.452145</td>\n",
       "      <td>...</td>\n",
       "      <td>149208.113907</td>\n",
       "      <td>167075.785316</td>\n",
       "      <td>180200.03335</td>\n",
       "      <td>195681.624546</td>\n",
       "      <td>177596.632553</td>\n",
       "      <td>177973.637255</td>\n",
       "      <td>175469.669184</td>\n",
       "      <td>176390.278596</td>\n",
       "      <td>183056.094118</td>\n",
       "      <td>NaN</td>\n",
       "    </tr>\n",
       "  </tbody>\n",
       "</table>\n",
       "<p>1 rows × 28 columns</p>\n",
       "</div>"
      ],
      "text/plain": [
       "                                      1993         1994          1995  \\\n",
       "variables                                                               \n",
       "Total de reservas(millones€)  25298.703698  6441.390536  17045.558633   \n",
       "\n",
       "                                      1996          1997         1998  \\\n",
       "variables                                                               \n",
       "Total de reservas(millones€)  19526.913036  28852.477361  31863.18198   \n",
       "\n",
       "                                      1999          2000          2001  \\\n",
       "variables                                                                \n",
       "Total de reservas(millones€)  31828.401325  35577.279054  44804.667773   \n",
       "\n",
       "                                      2002  ...            2011  \\\n",
       "variables                                   ...                   \n",
       "Total de reservas(millones€)  50671.452145  ...   149208.113907   \n",
       "\n",
       "                                       2012          2013           2014  \\\n",
       "variables                                                                  \n",
       "Total de reservas(millones€)  167075.785316  180200.03335  195681.624546   \n",
       "\n",
       "                                       2015           2016           2017  \\\n",
       "variables                                                                   \n",
       "Total de reservas(millones€)  177596.632553  177973.637255  175469.669184   \n",
       "\n",
       "                                       2018           2019  2020  \n",
       "variables                                                         \n",
       "Total de reservas(millones€)  176390.278596  183056.094118   NaN  \n",
       "\n",
       "[1 rows x 28 columns]"
      ]
     },
     "execution_count": 11,
     "metadata": {},
     "output_type": "execute_result"
    }
   ],
   "source": [
    "df_reservas = df_reservas.div(1000000)\n",
    "df_reservas.head()"
   ]
  },
  {
   "cell_type": "code",
   "execution_count": 12,
   "metadata": {},
   "outputs": [
    {
     "data": {
      "text/html": [
       "<div>\n",
       "<style scoped>\n",
       "    .dataframe tbody tr th:only-of-type {\n",
       "        vertical-align: middle;\n",
       "    }\n",
       "\n",
       "    .dataframe tbody tr th {\n",
       "        vertical-align: top;\n",
       "    }\n",
       "\n",
       "    .dataframe thead th {\n",
       "        text-align: right;\n",
       "    }\n",
       "</style>\n",
       "<table border=\"1\" class=\"dataframe\">\n",
       "  <thead>\n",
       "    <tr style=\"text-align: right;\">\n",
       "      <th></th>\n",
       "      <th>1993</th>\n",
       "      <th>1994</th>\n",
       "      <th>1995</th>\n",
       "      <th>1996</th>\n",
       "      <th>1997</th>\n",
       "      <th>1998</th>\n",
       "      <th>1999</th>\n",
       "      <th>2000</th>\n",
       "      <th>2001</th>\n",
       "      <th>2002</th>\n",
       "      <th>...</th>\n",
       "      <th>2011</th>\n",
       "      <th>2012</th>\n",
       "      <th>2013</th>\n",
       "      <th>2014</th>\n",
       "      <th>2015</th>\n",
       "      <th>2016</th>\n",
       "      <th>2017</th>\n",
       "      <th>2018</th>\n",
       "      <th>2019</th>\n",
       "      <th>2020</th>\n",
       "    </tr>\n",
       "    <tr>\n",
       "      <th>variables</th>\n",
       "      <th></th>\n",
       "      <th></th>\n",
       "      <th></th>\n",
       "      <th></th>\n",
       "      <th></th>\n",
       "      <th></th>\n",
       "      <th></th>\n",
       "      <th></th>\n",
       "      <th></th>\n",
       "      <th></th>\n",
       "      <th></th>\n",
       "      <th></th>\n",
       "      <th></th>\n",
       "      <th></th>\n",
       "      <th></th>\n",
       "      <th></th>\n",
       "      <th></th>\n",
       "      <th></th>\n",
       "      <th></th>\n",
       "      <th></th>\n",
       "      <th></th>\n",
       "    </tr>\n",
       "  </thead>\n",
       "  <tbody>\n",
       "    <tr>\n",
       "      <th>Total de reservas(millones€)</th>\n",
       "      <td>0.8894</td>\n",
       "      <td>0.8027</td>\n",
       "      <td>0.7467</td>\n",
       "      <td>0.7921</td>\n",
       "      <td>0.9135</td>\n",
       "      <td>0.8526</td>\n",
       "      <td>0.9926</td>\n",
       "      <td>1.0611</td>\n",
       "      <td>1.1225</td>\n",
       "      <td>0.9524</td>\n",
       "      <td>...</td>\n",
       "      <td>0.7727</td>\n",
       "      <td>0.7577</td>\n",
       "      <td>0.7274</td>\n",
       "      <td>0.8264</td>\n",
       "      <td>0.9207</td>\n",
       "      <td>0.9507</td>\n",
       "      <td>0.8333</td>\n",
       "      <td>0.8717</td>\n",
       "      <td>0.8917</td>\n",
       "      <td>0.8185</td>\n",
       "    </tr>\n",
       "  </tbody>\n",
       "</table>\n",
       "<p>1 rows × 28 columns</p>\n",
       "</div>"
      ],
      "text/plain": [
       "                                1993    1994    1995    1996    1997    1998  \\\n",
       "variables                                                                      \n",
       "Total de reservas(millones€)  0.8894  0.8027  0.7467  0.7921  0.9135  0.8526   \n",
       "\n",
       "                                1999    2000    2001    2002   ...      2011  \\\n",
       "variables                                                      ...             \n",
       "Total de reservas(millones€)  0.9926  1.0611  1.1225  0.9524   ...    0.7727   \n",
       "\n",
       "                                2012    2013    2014    2015    2016    2017  \\\n",
       "variables                                                                      \n",
       "Total de reservas(millones€)  0.7577  0.7274  0.8264  0.9207  0.9507  0.8333   \n",
       "\n",
       "                                2018    2019    2020  \n",
       "variables                                             \n",
       "Total de reservas(millones€)  0.8717  0.8917  0.8185  \n",
       "\n",
       "[1 rows x 28 columns]"
      ]
     },
     "execution_count": 12,
     "metadata": {},
     "output_type": "execute_result"
    }
   ],
   "source": [
    "df.set_index('variables', inplace=True)\n",
    "df.head()"
   ]
  },
  {
   "cell_type": "code",
   "execution_count": 13,
   "metadata": {},
   "outputs": [
    {
     "data": {
      "text/html": [
       "<div>\n",
       "<style scoped>\n",
       "    .dataframe tbody tr th:only-of-type {\n",
       "        vertical-align: middle;\n",
       "    }\n",
       "\n",
       "    .dataframe tbody tr th {\n",
       "        vertical-align: top;\n",
       "    }\n",
       "\n",
       "    .dataframe thead th {\n",
       "        text-align: right;\n",
       "    }\n",
       "</style>\n",
       "<table border=\"1\" class=\"dataframe\">\n",
       "  <thead>\n",
       "    <tr style=\"text-align: right;\">\n",
       "      <th></th>\n",
       "      <th>1993</th>\n",
       "      <th>1994</th>\n",
       "      <th>1995</th>\n",
       "      <th>1996</th>\n",
       "      <th>1997</th>\n",
       "      <th>1998</th>\n",
       "      <th>1999</th>\n",
       "      <th>2000</th>\n",
       "      <th>2001</th>\n",
       "      <th>2002</th>\n",
       "      <th>...</th>\n",
       "      <th>2011</th>\n",
       "      <th>2012</th>\n",
       "      <th>2013</th>\n",
       "      <th>2014</th>\n",
       "      <th>2015</th>\n",
       "      <th>2016</th>\n",
       "      <th>2017</th>\n",
       "      <th>2018</th>\n",
       "      <th>2019</th>\n",
       "      <th>2020</th>\n",
       "    </tr>\n",
       "    <tr>\n",
       "      <th>variables</th>\n",
       "      <th></th>\n",
       "      <th></th>\n",
       "      <th></th>\n",
       "      <th></th>\n",
       "      <th></th>\n",
       "      <th></th>\n",
       "      <th></th>\n",
       "      <th></th>\n",
       "      <th></th>\n",
       "      <th></th>\n",
       "      <th></th>\n",
       "      <th></th>\n",
       "      <th></th>\n",
       "      <th></th>\n",
       "      <th></th>\n",
       "      <th></th>\n",
       "      <th></th>\n",
       "      <th></th>\n",
       "      <th></th>\n",
       "      <th></th>\n",
       "      <th></th>\n",
       "    </tr>\n",
       "  </thead>\n",
       "  <tbody>\n",
       "    <tr>\n",
       "      <th>Total de reservas(millones€)</th>\n",
       "      <td>22500.667069</td>\n",
       "      <td>5170.504183</td>\n",
       "      <td>12727.918631</td>\n",
       "      <td>15467.267816</td>\n",
       "      <td>26356.738069</td>\n",
       "      <td>27166.548956</td>\n",
       "      <td>31592.871155</td>\n",
       "      <td>37751.050804</td>\n",
       "      <td>50293.239575</td>\n",
       "      <td>48259.491023</td>\n",
       "      <td>...</td>\n",
       "      <td>115293.109616</td>\n",
       "      <td>126593.322534</td>\n",
       "      <td>131077.504259</td>\n",
       "      <td>161711.294525</td>\n",
       "      <td>163513.219591</td>\n",
       "      <td>169199.536938</td>\n",
       "      <td>146218.875331</td>\n",
       "      <td>153759.405852</td>\n",
       "      <td>163231.119125</td>\n",
       "      <td>NaN</td>\n",
       "    </tr>\n",
       "  </tbody>\n",
       "</table>\n",
       "<p>1 rows × 28 columns</p>\n",
       "</div>"
      ],
      "text/plain": [
       "                                      1993         1994          1995  \\\n",
       "variables                                                               \n",
       "Total de reservas(millones€)  22500.667069  5170.504183  12727.918631   \n",
       "\n",
       "                                      1996          1997          1998  \\\n",
       "variables                                                                \n",
       "Total de reservas(millones€)  15467.267816  26356.738069  27166.548956   \n",
       "\n",
       "                                      1999          2000          2001  \\\n",
       "variables                                                                \n",
       "Total de reservas(millones€)  31592.871155  37751.050804  50293.239575   \n",
       "\n",
       "                                      2002  ...            2011  \\\n",
       "variables                                   ...                   \n",
       "Total de reservas(millones€)  48259.491023  ...   115293.109616   \n",
       "\n",
       "                                       2012           2013           2014  \\\n",
       "variables                                                                   \n",
       "Total de reservas(millones€)  126593.322534  131077.504259  161711.294525   \n",
       "\n",
       "                                       2015           2016           2017  \\\n",
       "variables                                                                   \n",
       "Total de reservas(millones€)  163513.219591  169199.536938  146218.875331   \n",
       "\n",
       "                                       2018           2019  2020  \n",
       "variables                                                         \n",
       "Total de reservas(millones€)  153759.405852  163231.119125   NaN  \n",
       "\n",
       "[1 rows x 28 columns]"
      ]
     },
     "execution_count": 13,
     "metadata": {},
     "output_type": "execute_result"
    }
   ],
   "source": [
    "df_reservas = df_reservas.mul(df, axis=0)\n",
    "df_reservas.head()"
   ]
  },
  {
   "cell_type": "code",
   "execution_count": 14,
   "metadata": {},
   "outputs": [],
   "source": [
    "df_reservas = df_reservas.round(2)"
   ]
  },
  {
   "cell_type": "code",
   "execution_count": 15,
   "metadata": {},
   "outputs": [],
   "source": [
    "df_reservas = df_reservas.transpose()"
   ]
  },
  {
   "cell_type": "code",
   "execution_count": 16,
   "metadata": {},
   "outputs": [
    {
     "data": {
      "text/html": [
       "<div>\n",
       "<style scoped>\n",
       "    .dataframe tbody tr th:only-of-type {\n",
       "        vertical-align: middle;\n",
       "    }\n",
       "\n",
       "    .dataframe tbody tr th {\n",
       "        vertical-align: top;\n",
       "    }\n",
       "\n",
       "    .dataframe thead th {\n",
       "        text-align: right;\n",
       "    }\n",
       "</style>\n",
       "<table border=\"1\" class=\"dataframe\">\n",
       "  <thead>\n",
       "    <tr style=\"text-align: right;\">\n",
       "      <th>variables</th>\n",
       "      <th>Total de reservas(millones€)</th>\n",
       "    </tr>\n",
       "  </thead>\n",
       "  <tbody>\n",
       "    <tr>\n",
       "      <th>count</th>\n",
       "      <td>27.000000</td>\n",
       "    </tr>\n",
       "    <tr>\n",
       "      <th>mean</th>\n",
       "      <td>78160.525185</td>\n",
       "    </tr>\n",
       "    <tr>\n",
       "      <th>std</th>\n",
       "      <td>54522.824695</td>\n",
       "    </tr>\n",
       "    <tr>\n",
       "      <th>min</th>\n",
       "      <td>5170.500000</td>\n",
       "    </tr>\n",
       "    <tr>\n",
       "      <th>25%</th>\n",
       "      <td>34671.960000</td>\n",
       "    </tr>\n",
       "    <tr>\n",
       "      <th>50%</th>\n",
       "      <td>59772.480000</td>\n",
       "    </tr>\n",
       "    <tr>\n",
       "      <th>75%</th>\n",
       "      <td>128835.410000</td>\n",
       "    </tr>\n",
       "    <tr>\n",
       "      <th>max</th>\n",
       "      <td>169199.540000</td>\n",
       "    </tr>\n",
       "  </tbody>\n",
       "</table>\n",
       "</div>"
      ],
      "text/plain": [
       "variables  Total de reservas(millones€)\n",
       "count                         27.000000\n",
       "mean                       78160.525185\n",
       "std                        54522.824695\n",
       "min                         5170.500000\n",
       "25%                        34671.960000\n",
       "50%                        59772.480000\n",
       "75%                       128835.410000\n",
       "max                       169199.540000"
      ]
     },
     "execution_count": 16,
     "metadata": {},
     "output_type": "execute_result"
    }
   ],
   "source": [
    "df_reservas.describe()"
   ]
  },
  {
   "cell_type": "code",
   "execution_count": 17,
   "metadata": {},
   "outputs": [
    {
     "data": {
      "image/png": "[encoded data removed]",
      "text/plain": [
       "<Figure size 432x288 with 1 Axes>"
      ]
     },
     "metadata": {},
     "output_type": "display_data"
    }
   ],
   "source": [
    "sns.set_theme(style=\"whitegrid\")\n",
    "ax = sns.boxplot(x=df_reservas[\"Total de reservas(millones€)\"])"
   ]
  },
  {
   "cell_type": "code",
   "execution_count": 18,
   "metadata": {},
   "outputs": [
    {
     "data": {
      "text/plain": [
       "<seaborn.axisgrid.FacetGrid at 0x7f72710ee410>"
      ]
     },
     "execution_count": 18,
     "metadata": {},
     "output_type": "execute_result"
    },
    {
     "data": {
      "image/png": "[encoded data removed]",
      "text/plain": [
       "<Figure size 538.459x360 with 1 Axes>"
      ]
     },
     "metadata": {},
     "output_type": "display_data"
    }
   ],
   "source": [
    "sns.displot(df_reservas, bins=10)"
   ]
  },
  {
   "cell_type": "code",
   "execution_count": 19,
   "metadata": {},
   "outputs": [
    {
     "data": {
      "text/plain": [
       "Text(0.5, 1.0, 'Evolución de las reservas en México')"
      ]
     },
     "execution_count": 19,
     "metadata": {},
     "output_type": "execute_result"
    },
    {
     "data": {
      "image/png": "[encoded data removed]",
      "text/plain": [
       "<Figure size 1440x360 with 1 Axes>"
      ]
     },
     "metadata": {},
     "output_type": "display_data"
    }
   ],
   "source": [
    "plt.figure(figsize=(20,5))\n",
    "sns.lineplot(data=df_reservas)\n",
    "plt.title('Evolución de las reservas en México')"
   ]
  },
  {
   "cell_type": "code",
   "execution_count": 20,
   "metadata": {},
   "outputs": [
    {
     "data": {
      "text/plain": [
       "variables\n",
       "Total de reservas(millones€)    2110334.18\n",
       "dtype: float64"
      ]
     },
     "execution_count": 20,
     "metadata": {},
     "output_type": "execute_result"
    }
   ],
   "source": [
    "df_reservas.sum()"
   ]
  },
  {
   "cell_type": "code",
   "execution_count": 22,
   "metadata": {},
   "outputs": [
    {
     "data": {
      "text/html": [
       "<div>\n",
       "<style scoped>\n",
       "    .dataframe tbody tr th:only-of-type {\n",
       "        vertical-align: middle;\n",
       "    }\n",
       "\n",
       "    .dataframe tbody tr th {\n",
       "        vertical-align: top;\n",
       "    }\n",
       "\n",
       "    .dataframe thead th {\n",
       "        text-align: right;\n",
       "    }\n",
       "</style>\n",
       "<table border=\"1\" class=\"dataframe\">\n",
       "  <thead>\n",
       "    <tr style=\"text-align: right;\">\n",
       "      <th>variables</th>\n",
       "      <th>Total de reservas(millones€)</th>\n",
       "    </tr>\n",
       "  </thead>\n",
       "  <tbody>\n",
       "    <tr>\n",
       "      <th>2016</th>\n",
       "      <td>169199.54</td>\n",
       "    </tr>\n",
       "  </tbody>\n",
       "</table>\n",
       "</div>"
      ],
      "text/plain": [
       "variables  Total de reservas(millones€)\n",
       "2016                          169199.54"
      ]
     },
     "execution_count": 22,
     "metadata": {},
     "output_type": "execute_result"
    }
   ],
   "source": [
    "df_reservas.loc[df_reservas['Total de reservas(millones€)'] == df_reservas['Total de reservas(millones€)'].max()]"
   ]
  },
  {
   "cell_type": "code",
   "execution_count": 23,
   "metadata": {},
   "outputs": [
    {
     "name": "stdout",
     "output_type": "stream",
     "text": [
      "Stored 'df_reservas' (DataFrame)\n"
     ]
    }
   ],
   "source": [
    "%store df_reservas"
   ]
  },
  {
   "cell_type": "code",
   "execution_count": null,
   "metadata": {},
   "outputs": [],
   "source": []
  },
  {
   "cell_type": "code",
   "execution_count": null,
   "metadata": {},
   "outputs": [],
   "source": []
  },
  {
   "cell_type": "code",
   "execution_count": null,
   "metadata": {},
   "outputs": [],
   "source": []
  },
  {
   "cell_type": "code",
   "execution_count": null,
   "metadata": {},
   "outputs": [],
   "source": []
  },
  {
   "cell_type": "code",
   "execution_count": null,
   "metadata": {},
   "outputs": [],
   "source": []
  },
  {
   "cell_type": "code",
   "execution_count": null,
   "metadata": {},
   "outputs": [],
   "source": []
  },
  {
   "cell_type": "code",
   "execution_count": null,
   "metadata": {},
   "outputs": [],
   "source": []
  },
  {
   "cell_type": "code",
   "execution_count": null,
   "metadata": {},
   "outputs": [],
   "source": []
  },
  {
   "cell_type": "code",
   "execution_count": null,
   "metadata": {},
   "outputs": [],
   "source": []
  },
  {
   "cell_type": "code",
   "execution_count": null,
   "metadata": {},
   "outputs": [],
   "source": []
  },
  {
   "cell_type": "code",
   "execution_count": null,
   "metadata": {},
   "outputs": [],
   "source": []
  },
  {
   "cell_type": "code",
   "execution_count": null,
   "metadata": {},
   "outputs": [],
   "source": []
  }
 ],
 "metadata": {
  "kernelspec": {
   "display_name": "Python 3",
   "language": "python",
   "name": "python3"
  },
  "language_info": {
   "codemirror_mode": {
    "name": "ipython",
    "version": 3
   },
   "file_extension": ".py",
   "mimetype": "text/x-python",
   "name": "python",
   "nbconvert_exporter": "python",
   "pygments_lexer": "ipython3",
   "version": "3.7.9"
  }
 },
 "nbformat": 4,
 "nbformat_minor": 4
}

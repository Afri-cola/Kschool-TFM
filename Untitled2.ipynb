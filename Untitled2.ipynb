{
 "cells": [
  {
   "cell_type": "code",
   "execution_count": 23,
   "metadata": {},
   "outputs": [],
   "source": [
    "# Tratamiento de datos\n",
    "# ==============================================================================\n",
    "import pandas as pd\n",
    "import numpy as np\n",
    "\n",
    "# Gráficos\n",
    "# ==============================================================================\n",
    "import matplotlib.pyplot as plt\n",
    "from matplotlib import style\n",
    "import seaborn as sns\n",
    "\n",
    "# Preprocesado y modelado\n",
    "# ==============================================================================\n",
    "import scipy.stats\n",
    "from sklearn.model_selection import train_test_split\n",
    "from sklearn.metrics import r2_score\n",
    "from sklearn.metrics import mean_squared_error\n",
    "import statsmodels.api as sm\n",
    "import statsmodels.formula.api as smf\n",
    "from statsmodels.stats.anova import anova_lm\n",
    "from scipy import stats\n",
    "from sklearn.linear_model import LinearRegression \n",
    "from statsmodels.tsa.seasonal import seasonal_decompose\n",
    "from sklearn.preprocessing import StandardScaler\n",
    "\n",
    "\n",
    "# Configuración matplotlib\n",
    "# ==============================================================================\n",
    "plt.rcParams['image.cmap'] = \"bwr\"\n",
    "plt.rcParams['figure.dpi'] = \"100\"\n",
    "plt.rcParams['savefig.bbox'] = \"tight\"\n",
    "style.use('ggplot') or plt.style.use('ggplot')\n",
    "\n",
    "# Configuración warnings\n",
    "# ==============================================================================\n",
    "import warnings\n",
    "warnings.filterwarnings('ignore')"
   ]
  },
  {
   "cell_type": "code",
   "execution_count": 32,
   "metadata": {},
   "outputs": [],
   "source": [
    "%store -r df_var_clean"
   ]
  },
  {
   "cell_type": "code",
   "execution_count": 28,
   "metadata": {},
   "outputs": [],
   "source": [
    "from statsmodels.stats.outliers_influence import variance_inflation_factor"
   ]
  },
  {
   "cell_type": "code",
   "execution_count": 29,
   "metadata": {},
   "outputs": [],
   "source": [
    "\n",
    "def calculate_vif(df):\n",
    "    vif = pd.DataFrame()\n",
    "    vif[\"Ratios\"] = df.columns\n",
    "    vif[\"VIF\"] = [variance_inflation_factor(df.values, i) for i in range(df.shape[1])]    \n",
    "    return(vif)\n"
   ]
  },
  {
   "cell_type": "code",
   "execution_count": 31,
   "metadata": {},
   "outputs": [
    {
     "data": {
      "text/html": [
       "<div>\n",
       "<style scoped>\n",
       "    .dataframe tbody tr th:only-of-type {\n",
       "        vertical-align: middle;\n",
       "    }\n",
       "\n",
       "    .dataframe tbody tr th {\n",
       "        vertical-align: top;\n",
       "    }\n",
       "\n",
       "    .dataframe thead th {\n",
       "        text-align: right;\n",
       "    }\n",
       "</style>\n",
       "<table border=\"1\" class=\"dataframe\">\n",
       "  <thead>\n",
       "    <tr style=\"text-align: right;\">\n",
       "      <th></th>\n",
       "      <th>Ratios</th>\n",
       "      <th>VIF</th>\n",
       "    </tr>\n",
       "  </thead>\n",
       "  <tbody>\n",
       "    <tr>\n",
       "      <th>0</th>\n",
       "      <td>IPC(%anual)</td>\n",
       "      <td>1.378127</td>\n",
       "    </tr>\n",
       "    <tr>\n",
       "      <th>1</th>\n",
       "      <td>Inversion Es(millones€)</td>\n",
       "      <td>2.065478</td>\n",
       "    </tr>\n",
       "    <tr>\n",
       "      <th>2</th>\n",
       "      <td>IED(millones€)</td>\n",
       "      <td>3.684067</td>\n",
       "    </tr>\n",
       "    <tr>\n",
       "      <th>3</th>\n",
       "      <td>Saldo Balanza Pagos(millones€)</td>\n",
       "      <td>2.543653</td>\n",
       "    </tr>\n",
       "  </tbody>\n",
       "</table>\n",
       "</div>"
      ],
      "text/plain": [
       "                           Ratios       VIF\n",
       "0                     IPC(%anual)  1.378127\n",
       "1         Inversion Es(millones€)  2.065478\n",
       "2                  IED(millones€)  3.684067\n",
       "3  Saldo Balanza Pagos(millones€)  2.543653"
      ]
     },
     "execution_count": 31,
     "metadata": {},
     "output_type": "execute_result"
    }
   ],
   "source": [
    "vif = calculate_vif(df_var)\n",
    "while vif['VIF'][vif['VIF'] > 7].any():\n",
    "    remove = vif.sort_values('VIF',ascending=0)['Ratios'][:1]\n",
    "    df_var.drop(remove,axis=1,inplace=True)\n",
    "    vif = calculate_vif(df_var)\n",
    "vif"
   ]
  },
  {
   "cell_type": "code",
   "execution_count": null,
   "metadata": {},
   "outputs": [],
   "source": [
    "df_var_clean.drop(columns='Inversion Es(millones€)')"
   ]
  },
  {
   "cell_type": "code",
   "execution_count": 37,
   "metadata": {},
   "outputs": [],
   "source": [
    "X= df_var_clean.drop(columns='Inversion Es(millones€)')"
   ]
  },
  {
   "cell_type": "code",
   "execution_count": 36,
   "metadata": {},
   "outputs": [],
   "source": [
    "from sklearn.linear_model import LinearRegression\n",
    "\n",
    "\n",
    "def calculateVIF(var_predictoras_df):\n",
    "    var_pred_labels = list(var_predictoras_df.columns)\n",
    "    num_var_pred = len(var_pred_labels)\n",
    "    \n",
    "    lr_model = LinearRegression()\n",
    "    \n",
    "    result = pd.DataFrame(index = ['VIF'], columns = var_pred_labels)\n",
    "    result = result.fillna(0)\n",
    "    \n",
    "    for ite in range(num_var_pred):\n",
    "        x_features = var_pred_labels[:]\n",
    "        y_feature = var_pred_labels[ite]\n",
    "        x_features.remove(y_feature)\n",
    "        \n",
    "        x = var_predictoras_df[x_features]\n",
    "        y = var_predictoras_df[y_feature]\n",
    "        \n",
    "        lr_model.fit(var_predictoras_df[x_features], var_predictoras_df[y_feature])\n",
    "        \n",
    "        result[y_feature] = 1/(1 - lr_model.score(var_predictoras_df[x_features], var_predictoras_df[y_feature]))\n",
    "    \n",
    "    return result"
   ]
  },
  {
   "cell_type": "code",
   "execution_count": 39,
   "metadata": {},
   "outputs": [
    {
     "data": {
      "text/html": [
       "<div>\n",
       "<style scoped>\n",
       "    .dataframe tbody tr th:only-of-type {\n",
       "        vertical-align: middle;\n",
       "    }\n",
       "\n",
       "    .dataframe tbody tr th {\n",
       "        vertical-align: top;\n",
       "    }\n",
       "\n",
       "    .dataframe thead th {\n",
       "        text-align: right;\n",
       "    }\n",
       "</style>\n",
       "<table border=\"1\" class=\"dataframe\">\n",
       "  <thead>\n",
       "    <tr style=\"text-align: right;\">\n",
       "      <th></th>\n",
       "      <th>VIF</th>\n",
       "    </tr>\n",
       "  </thead>\n",
       "  <tbody>\n",
       "    <tr>\n",
       "      <th>IPC(%anual)</th>\n",
       "      <td>8.118633</td>\n",
       "    </tr>\n",
       "    <tr>\n",
       "      <th>Desempleo (%)</th>\n",
       "      <td>3.800923</td>\n",
       "    </tr>\n",
       "    <tr>\n",
       "      <th>IED(millones€)</th>\n",
       "      <td>3.849045</td>\n",
       "    </tr>\n",
       "    <tr>\n",
       "      <th>Total de reservas(millones€)</th>\n",
       "      <td>127.218260</td>\n",
       "    </tr>\n",
       "    <tr>\n",
       "      <th>Deuda Externa(millones€)</th>\n",
       "      <td>55.552659</td>\n",
       "    </tr>\n",
       "    <tr>\n",
       "      <th>Tasa de interés(%)</th>\n",
       "      <td>19.903107</td>\n",
       "    </tr>\n",
       "    <tr>\n",
       "      <th>Saldo Balanza Pagos(millones€)</th>\n",
       "      <td>7.024821</td>\n",
       "    </tr>\n",
       "    <tr>\n",
       "      <th>Importaciones(millones€)</th>\n",
       "      <td>1487.712844</td>\n",
       "    </tr>\n",
       "    <tr>\n",
       "      <th>Exportaciones(millones€)</th>\n",
       "      <td>1926.146284</td>\n",
       "    </tr>\n",
       "    <tr>\n",
       "      <th>PIB(millones€)</th>\n",
       "      <td>36.308710</td>\n",
       "    </tr>\n",
       "  </tbody>\n",
       "</table>\n",
       "</div>"
      ],
      "text/plain": [
       "                                        VIF\n",
       "IPC(%anual)                        8.118633\n",
       "Desempleo (%)                      3.800923\n",
       "IED(millones€)                     3.849045\n",
       "Total de reservas(millones€)     127.218260\n",
       "Deuda Externa(millones€)          55.552659\n",
       "Tasa de interés(%)                19.903107\n",
       "Saldo Balanza Pagos(millones€)     7.024821\n",
       "Importaciones(millones€)        1487.712844\n",
       "Exportaciones(millones€)        1926.146284\n",
       "PIB(millones€)                    36.308710"
      ]
     },
     "execution_count": 39,
     "metadata": {},
     "output_type": "execute_result"
    }
   ],
   "source": [
    "calculateVIF(X).T"
   ]
  },
  {
   "cell_type": "code",
   "execution_count": 40,
   "metadata": {},
   "outputs": [],
   "source": [
    "def selectDataUsingVIF(var_predictoras_df, max_VIF = 5):\n",
    "    result = var_predictoras_df.copy(deep = True)\n",
    "    \n",
    "    VIF = calculateVIF(result)\n",
    "    \n",
    "    while VIF.values.max() > max_VIF:\n",
    "        col_max = np.where(VIF == VIF.values.max())[1][0]\n",
    "        features = list(result.columns)\n",
    "        features.remove(features[col_max])\n",
    "        result = result[features]\n",
    "        \n",
    "        VIF = calculateVIF(result)\n",
    "        \n",
    "    return result"
   ]
  },
  {
   "cell_type": "code",
   "execution_count": 41,
   "metadata": {},
   "outputs": [
    {
     "data": {
      "text/html": [
       "<div>\n",
       "<style scoped>\n",
       "    .dataframe tbody tr th:only-of-type {\n",
       "        vertical-align: middle;\n",
       "    }\n",
       "\n",
       "    .dataframe tbody tr th {\n",
       "        vertical-align: top;\n",
       "    }\n",
       "\n",
       "    .dataframe thead th {\n",
       "        text-align: right;\n",
       "    }\n",
       "</style>\n",
       "<table border=\"1\" class=\"dataframe\">\n",
       "  <thead>\n",
       "    <tr style=\"text-align: right;\">\n",
       "      <th></th>\n",
       "      <th>VIF</th>\n",
       "    </tr>\n",
       "  </thead>\n",
       "  <tbody>\n",
       "    <tr>\n",
       "      <th>IPC(%anual)</th>\n",
       "      <td>1.550145</td>\n",
       "    </tr>\n",
       "    <tr>\n",
       "      <th>Desempleo (%)</th>\n",
       "      <td>1.225013</td>\n",
       "    </tr>\n",
       "    <tr>\n",
       "      <th>IED(millones€)</th>\n",
       "      <td>2.337653</td>\n",
       "    </tr>\n",
       "    <tr>\n",
       "      <th>Deuda Externa(millones€)</th>\n",
       "      <td>2.059763</td>\n",
       "    </tr>\n",
       "    <tr>\n",
       "      <th>Saldo Balanza Pagos(millones€)</th>\n",
       "      <td>1.254622</td>\n",
       "    </tr>\n",
       "  </tbody>\n",
       "</table>\n",
       "</div>"
      ],
      "text/plain": [
       "                                     VIF\n",
       "IPC(%anual)                     1.550145\n",
       "Desempleo (%)                   1.225013\n",
       "IED(millones€)                  2.337653\n",
       "Deuda Externa(millones€)        2.059763\n",
       "Saldo Balanza Pagos(millones€)  1.254622"
      ]
     },
     "execution_count": 41,
     "metadata": {},
     "output_type": "execute_result"
    }
   ],
   "source": [
    "calculateVIF(selectDataUsingVIF(X)).T"
   ]
  },
  {
   "cell_type": "code",
   "execution_count": null,
   "metadata": {},
   "outputs": [],
   "source": []
  }
 ],
 "metadata": {
  "kernelspec": {
   "display_name": "Python 3",
   "language": "python",
   "name": "python3"
  },
  "language_info": {
   "codemirror_mode": {
    "name": "ipython",
    "version": 3
   },
   "file_extension": ".py",
   "mimetype": "text/x-python",
   "name": "python",
   "nbconvert_exporter": "python",
   "pygments_lexer": "ipython3",
   "version": "3.7.9"
  }
 },
 "nbformat": 4,
 "nbformat_minor": 4
}

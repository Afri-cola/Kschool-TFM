{
 "cells": [
  {
   "cell_type": "markdown",
   "metadata": {},
   "source": [
    "## Inversión Extranjera Directa (IED)\n",
    "\n",
    "Inversión Extranjera Directa en millones de Euros\n",
    "\n",
    "- DataFrame --> df_IED"
   ]
  },
  {
   "cell_type": "code",
   "execution_count": 1,
   "metadata": {},
   "outputs": [],
   "source": [
    "import pandas as pd\n",
    "import numpy as np\n",
    "import seaborn as sns\n",
    "import matplotlib.pyplot as plt\n",
    "from funciones_variables import variable_porcentaje, tipo_cambio"
   ]
  },
  {
   "cell_type": "code",
   "execution_count": null,
   "metadata": {},
   "outputs": [],
   "source": [
    "root_2 = 'Variables_economicas/IED.csv'\n",
    "df_IED = tipo_cambio(root_2)\n",
    "df_IED= df_IED.rename(columns= {'Inversión extranjera directa, entrada neta de capital (balanza de pagos, US$ a precios actuales)': 'IED(millones€)'})\n",
    "\n",
    "\n",
    "\n"
   ]
  },
  {
   "cell_type": "code",
   "execution_count": null,
   "metadata": {},
   "outputs": [],
   "source": []
  },
  {
   "cell_type": "code",
   "execution_count": null,
   "metadata": {},
   "outputs": [],
   "source": []
  },
  {
   "cell_type": "code",
   "execution_count": 2,
   "metadata": {},
   "outputs": [
    {
     "data": {
      "text/html": [
       "<div>\n",
       "<style scoped>\n",
       "    .dataframe tbody tr th:only-of-type {\n",
       "        vertical-align: middle;\n",
       "    }\n",
       "\n",
       "    .dataframe tbody tr th {\n",
       "        vertical-align: top;\n",
       "    }\n",
       "\n",
       "    .dataframe thead th {\n",
       "        text-align: right;\n",
       "    }\n",
       "</style>\n",
       "<table border=\"1\" class=\"dataframe\">\n",
       "  <thead>\n",
       "    <tr style=\"text-align: right;\">\n",
       "      <th></th>\n",
       "      <th>Unnamed: 0</th>\n",
       "      <th>1993</th>\n",
       "      <th>1994</th>\n",
       "      <th>1995</th>\n",
       "      <th>1996</th>\n",
       "      <th>1997</th>\n",
       "      <th>1998</th>\n",
       "      <th>1999</th>\n",
       "      <th>2000</th>\n",
       "      <th>2001</th>\n",
       "      <th>...</th>\n",
       "      <th>2011</th>\n",
       "      <th>2012</th>\n",
       "      <th>2013</th>\n",
       "      <th>2014</th>\n",
       "      <th>2015</th>\n",
       "      <th>2016</th>\n",
       "      <th>2017</th>\n",
       "      <th>2018</th>\n",
       "      <th>2019</th>\n",
       "      <th>2020</th>\n",
       "    </tr>\n",
       "  </thead>\n",
       "  <tbody>\n",
       "    <tr>\n",
       "      <th>0</th>\n",
       "      <td>Tipo de cambio</td>\n",
       "      <td>0.8894</td>\n",
       "      <td>0.8027</td>\n",
       "      <td>0.7467</td>\n",
       "      <td>0.7921</td>\n",
       "      <td>0.9135</td>\n",
       "      <td>0.8526</td>\n",
       "      <td>0.9926</td>\n",
       "      <td>1.0611</td>\n",
       "      <td>1.1225</td>\n",
       "      <td>...</td>\n",
       "      <td>0.7727</td>\n",
       "      <td>0.7577</td>\n",
       "      <td>0.7274</td>\n",
       "      <td>0.8264</td>\n",
       "      <td>0.9207</td>\n",
       "      <td>0.9507</td>\n",
       "      <td>0.8333</td>\n",
       "      <td>0.8717</td>\n",
       "      <td>0.8917</td>\n",
       "      <td>0.8185</td>\n",
       "    </tr>\n",
       "  </tbody>\n",
       "</table>\n",
       "<p>1 rows × 29 columns</p>\n",
       "</div>"
      ],
      "text/plain": [
       "       Unnamed: 0    1993    1994    1995    1996    1997    1998    1999  \\\n",
       "0  Tipo de cambio  0.8894  0.8027  0.7467  0.7921  0.9135  0.8526  0.9926   \n",
       "\n",
       "     2000    2001   ...      2011    2012    2013    2014    2015    2016  \\\n",
       "0  1.0611  1.1225   ...    0.7727  0.7577  0.7274  0.8264  0.9207  0.9507   \n",
       "\n",
       "     2017    2018    2019    2020  \n",
       "0  0.8333  0.8717  0.8917  0.8185  \n",
       "\n",
       "[1 rows x 29 columns]"
      ]
     },
     "execution_count": 2,
     "metadata": {},
     "output_type": "execute_result"
    }
   ],
   "source": [
    "root = 'Tipo de cambio- Dolar a Euro.csv'\n",
    "\n",
    "df = pd.read_csv(root)\n",
    "df.head()"
   ]
  },
  {
   "cell_type": "code",
   "execution_count": 3,
   "metadata": {},
   "outputs": [
    {
     "data": {
      "text/plain": [
       "Unnamed: 0     object\n",
       "1993          float64\n",
       "1994          float64\n",
       "1995          float64\n",
       "1996          float64\n",
       "1997          float64\n",
       "1998          float64\n",
       "1999          float64\n",
       "2000          float64\n",
       "2001          float64\n",
       "2002          float64\n",
       "2003          float64\n",
       "2004          float64\n",
       "2005          float64\n",
       "2006          float64\n",
       "2007          float64\n",
       "2008          float64\n",
       "2009          float64\n",
       "2010          float64\n",
       "2011          float64\n",
       "2012          float64\n",
       "2013          float64\n",
       "2014          float64\n",
       "2015          float64\n",
       "2016          float64\n",
       "2017          float64\n",
       "2018          float64\n",
       "2019          float64\n",
       "2020          float64\n",
       "dtype: object"
      ]
     },
     "execution_count": 3,
     "metadata": {},
     "output_type": "execute_result"
    }
   ],
   "source": [
    "df.dtypes"
   ]
  },
  {
   "cell_type": "code",
   "execution_count": 4,
   "metadata": {},
   "outputs": [
    {
     "data": {
      "text/html": [
       "<div>\n",
       "<style scoped>\n",
       "    .dataframe tbody tr th:only-of-type {\n",
       "        vertical-align: middle;\n",
       "    }\n",
       "\n",
       "    .dataframe tbody tr th {\n",
       "        vertical-align: top;\n",
       "    }\n",
       "\n",
       "    .dataframe thead th {\n",
       "        text-align: right;\n",
       "    }\n",
       "</style>\n",
       "<table border=\"1\" class=\"dataframe\">\n",
       "  <thead>\n",
       "    <tr style=\"text-align: right;\">\n",
       "      <th></th>\n",
       "      <th>Unnamed: 0</th>\n",
       "      <th>1993</th>\n",
       "      <th>1994</th>\n",
       "      <th>1995</th>\n",
       "      <th>1996</th>\n",
       "      <th>1997</th>\n",
       "      <th>1998</th>\n",
       "      <th>1999</th>\n",
       "      <th>2000</th>\n",
       "      <th>2001</th>\n",
       "      <th>...</th>\n",
       "      <th>2011</th>\n",
       "      <th>2012</th>\n",
       "      <th>2013</th>\n",
       "      <th>2014</th>\n",
       "      <th>2015</th>\n",
       "      <th>2016</th>\n",
       "      <th>2017</th>\n",
       "      <th>2018</th>\n",
       "      <th>2019</th>\n",
       "      <th>2020</th>\n",
       "    </tr>\n",
       "  </thead>\n",
       "  <tbody>\n",
       "    <tr>\n",
       "      <th>0</th>\n",
       "      <td>Tipo de cambio</td>\n",
       "      <td>0.8894</td>\n",
       "      <td>0.8027</td>\n",
       "      <td>0.7467</td>\n",
       "      <td>0.7921</td>\n",
       "      <td>0.9135</td>\n",
       "      <td>0.8526</td>\n",
       "      <td>0.9926</td>\n",
       "      <td>1.0611</td>\n",
       "      <td>1.1225</td>\n",
       "      <td>...</td>\n",
       "      <td>0.7727</td>\n",
       "      <td>0.7577</td>\n",
       "      <td>0.7274</td>\n",
       "      <td>0.8264</td>\n",
       "      <td>0.9207</td>\n",
       "      <td>0.9507</td>\n",
       "      <td>0.8333</td>\n",
       "      <td>0.8717</td>\n",
       "      <td>0.8917</td>\n",
       "      <td>0.8185</td>\n",
       "    </tr>\n",
       "  </tbody>\n",
       "</table>\n",
       "<p>1 rows × 29 columns</p>\n",
       "</div>"
      ],
      "text/plain": [
       "       Unnamed: 0    1993    1994    1995    1996    1997    1998    1999  \\\n",
       "0  Tipo de cambio  0.8894  0.8027  0.7467  0.7921  0.9135  0.8526  0.9926   \n",
       "\n",
       "     2000    2001   ...      2011    2012    2013    2014    2015    2016  \\\n",
       "0  1.0611  1.1225   ...    0.7727  0.7577  0.7274  0.8264  0.9207  0.9507   \n",
       "\n",
       "     2017    2018    2019    2020  \n",
       "0  0.8333  0.8717  0.8917  0.8185  \n",
       "\n",
       "[1 rows x 29 columns]"
      ]
     },
     "execution_count": 4,
     "metadata": {},
     "output_type": "execute_result"
    }
   ],
   "source": [
    "df.head()"
   ]
  },
  {
   "cell_type": "code",
   "execution_count": 5,
   "metadata": {},
   "outputs": [],
   "source": [
    "df.rename(columns={'Unnamed: 0' : 'variables'}, inplace=True)"
   ]
  },
  {
   "cell_type": "code",
   "execution_count": 6,
   "metadata": {},
   "outputs": [],
   "source": [
    "df= df.replace({'Tipo de cambio': 'IED(millones€)'})"
   ]
  },
  {
   "cell_type": "code",
   "execution_count": 7,
   "metadata": {},
   "outputs": [],
   "source": [
    "df.set_index('variables', inplace=True)"
   ]
  },
  {
   "cell_type": "code",
   "execution_count": 8,
   "metadata": {},
   "outputs": [
    {
     "data": {
      "text/html": [
       "<div>\n",
       "<style scoped>\n",
       "    .dataframe tbody tr th:only-of-type {\n",
       "        vertical-align: middle;\n",
       "    }\n",
       "\n",
       "    .dataframe tbody tr th {\n",
       "        vertical-align: top;\n",
       "    }\n",
       "\n",
       "    .dataframe thead th {\n",
       "        text-align: right;\n",
       "    }\n",
       "</style>\n",
       "<table border=\"1\" class=\"dataframe\">\n",
       "  <thead>\n",
       "    <tr style=\"text-align: right;\">\n",
       "      <th></th>\n",
       "      <th>country</th>\n",
       "      <th>variables</th>\n",
       "      <th>1993</th>\n",
       "      <th>1994</th>\n",
       "      <th>1995</th>\n",
       "      <th>1996</th>\n",
       "      <th>1997</th>\n",
       "      <th>1998</th>\n",
       "      <th>1999</th>\n",
       "      <th>2000</th>\n",
       "      <th>...</th>\n",
       "      <th>2011</th>\n",
       "      <th>2012</th>\n",
       "      <th>2013</th>\n",
       "      <th>2014</th>\n",
       "      <th>2015</th>\n",
       "      <th>2016</th>\n",
       "      <th>2017</th>\n",
       "      <th>2018</th>\n",
       "      <th>2019</th>\n",
       "      <th>2020</th>\n",
       "    </tr>\n",
       "  </thead>\n",
       "  <tbody>\n",
       "    <tr>\n",
       "      <th>152</th>\n",
       "      <td>MEXICO</td>\n",
       "      <td>IED(millones€)</td>\n",
       "      <td>4.389000e+09</td>\n",
       "      <td>1.097250e+10</td>\n",
       "      <td>9.526290e+09</td>\n",
       "      <td>9.185600e+09</td>\n",
       "      <td>1.282980e+10</td>\n",
       "      <td>1.275676e+10</td>\n",
       "      <td>1.394104e+10</td>\n",
       "      <td>1.838228e+10</td>\n",
       "      <td>...</td>\n",
       "      <td>2.383515e+10</td>\n",
       "      <td>1.820348e+10</td>\n",
       "      <td>5.079144e+10</td>\n",
       "      <td>2.860793e+10</td>\n",
       "      <td>3.573781e+10</td>\n",
       "      <td>3.877818e+10</td>\n",
       "      <td>3.301667e+10</td>\n",
       "      <td>3.765302e+10</td>\n",
       "      <td>2.935397e+10</td>\n",
       "      <td>2.907940e+10</td>\n",
       "    </tr>\n",
       "  </tbody>\n",
       "</table>\n",
       "<p>1 rows × 30 columns</p>\n",
       "</div>"
      ],
      "text/plain": [
       "    country       variables          1993          1994          1995  \\\n",
       "152  MEXICO  IED(millones€)  4.389000e+09  1.097250e+10  9.526290e+09   \n",
       "\n",
       "             1996          1997          1998          1999          2000  \\\n",
       "152  9.185600e+09  1.282980e+10  1.275676e+10  1.394104e+10  1.838228e+10   \n",
       "\n",
       "         ...               2011          2012          2013          2014  \\\n",
       "152      ...       2.383515e+10  1.820348e+10  5.079144e+10  2.860793e+10   \n",
       "\n",
       "             2015          2016          2017          2018          2019  \\\n",
       "152  3.573781e+10  3.877818e+10  3.301667e+10  3.765302e+10  2.935397e+10   \n",
       "\n",
       "             2020  \n",
       "152  2.907940e+10  \n",
       "\n",
       "[1 rows x 30 columns]"
      ]
     },
     "execution_count": 8,
     "metadata": {},
     "output_type": "execute_result"
    }
   ],
   "source": [
    "root_2 = 'Variables_economicas/IED.csv'\n",
    "\n",
    "df_IED = pd.read_csv(root_2, header=0)\n",
    "df_IED.rename(columns={'Country Name':'country', 'Indicator Name':'variables' }, inplace=True)\n",
    "df_IED = df_IED[df_IED.country == 'México']\n",
    "df_IED = df_IED.drop(['Indicator Code', 'Country Code'], axis=1)\n",
    "df_IED['country'] = df_IED['country'].replace('México', 'MEXICO')\n",
    "df_IED= df_IED.replace({'Inversión extranjera directa, entrada neta de capital (balanza de pagos, US$ a precios actuales)': 'IED(millones€)'})\n",
    "\n",
    "\n",
    "\n",
    "df_IED.head()\n"
   ]
  },
  {
   "cell_type": "code",
   "execution_count": 9,
   "metadata": {},
   "outputs": [],
   "source": [
    "df_IED = df_IED.drop(['country'], axis=1)"
   ]
  },
  {
   "cell_type": "code",
   "execution_count": 10,
   "metadata": {},
   "outputs": [
    {
     "data": {
      "text/html": [
       "<div>\n",
       "<style scoped>\n",
       "    .dataframe tbody tr th:only-of-type {\n",
       "        vertical-align: middle;\n",
       "    }\n",
       "\n",
       "    .dataframe tbody tr th {\n",
       "        vertical-align: top;\n",
       "    }\n",
       "\n",
       "    .dataframe thead th {\n",
       "        text-align: right;\n",
       "    }\n",
       "</style>\n",
       "<table border=\"1\" class=\"dataframe\">\n",
       "  <thead>\n",
       "    <tr style=\"text-align: right;\">\n",
       "      <th></th>\n",
       "      <th>variables</th>\n",
       "      <th>1993</th>\n",
       "      <th>1994</th>\n",
       "      <th>1995</th>\n",
       "      <th>1996</th>\n",
       "      <th>1997</th>\n",
       "      <th>1998</th>\n",
       "      <th>1999</th>\n",
       "      <th>2000</th>\n",
       "      <th>2001</th>\n",
       "      <th>...</th>\n",
       "      <th>2011</th>\n",
       "      <th>2012</th>\n",
       "      <th>2013</th>\n",
       "      <th>2014</th>\n",
       "      <th>2015</th>\n",
       "      <th>2016</th>\n",
       "      <th>2017</th>\n",
       "      <th>2018</th>\n",
       "      <th>2019</th>\n",
       "      <th>2020</th>\n",
       "    </tr>\n",
       "  </thead>\n",
       "  <tbody>\n",
       "    <tr>\n",
       "      <th>152</th>\n",
       "      <td>IED(millones€)</td>\n",
       "      <td>4.389000e+09</td>\n",
       "      <td>1.097250e+10</td>\n",
       "      <td>9.526290e+09</td>\n",
       "      <td>9.185600e+09</td>\n",
       "      <td>1.282980e+10</td>\n",
       "      <td>1.275676e+10</td>\n",
       "      <td>1.394104e+10</td>\n",
       "      <td>1.838228e+10</td>\n",
       "      <td>3.006002e+10</td>\n",
       "      <td>...</td>\n",
       "      <td>2.383515e+10</td>\n",
       "      <td>1.820348e+10</td>\n",
       "      <td>5.079144e+10</td>\n",
       "      <td>2.860793e+10</td>\n",
       "      <td>3.573781e+10</td>\n",
       "      <td>3.877818e+10</td>\n",
       "      <td>3.301667e+10</td>\n",
       "      <td>3.765302e+10</td>\n",
       "      <td>2.935397e+10</td>\n",
       "      <td>2.907940e+10</td>\n",
       "    </tr>\n",
       "  </tbody>\n",
       "</table>\n",
       "<p>1 rows × 29 columns</p>\n",
       "</div>"
      ],
      "text/plain": [
       "          variables          1993          1994          1995          1996  \\\n",
       "152  IED(millones€)  4.389000e+09  1.097250e+10  9.526290e+09  9.185600e+09   \n",
       "\n",
       "             1997          1998          1999          2000          2001  \\\n",
       "152  1.282980e+10  1.275676e+10  1.394104e+10  1.838228e+10  3.006002e+10   \n",
       "\n",
       "         ...               2011          2012          2013          2014  \\\n",
       "152      ...       2.383515e+10  1.820348e+10  5.079144e+10  2.860793e+10   \n",
       "\n",
       "             2015          2016          2017          2018          2019  \\\n",
       "152  3.573781e+10  3.877818e+10  3.301667e+10  3.765302e+10  2.935397e+10   \n",
       "\n",
       "             2020  \n",
       "152  2.907940e+10  \n",
       "\n",
       "[1 rows x 29 columns]"
      ]
     },
     "execution_count": 10,
     "metadata": {},
     "output_type": "execute_result"
    }
   ],
   "source": [
    "df_IED.head()"
   ]
  },
  {
   "cell_type": "code",
   "execution_count": 11,
   "metadata": {},
   "outputs": [
    {
     "data": {
      "text/html": [
       "<div>\n",
       "<style scoped>\n",
       "    .dataframe tbody tr th:only-of-type {\n",
       "        vertical-align: middle;\n",
       "    }\n",
       "\n",
       "    .dataframe tbody tr th {\n",
       "        vertical-align: top;\n",
       "    }\n",
       "\n",
       "    .dataframe thead th {\n",
       "        text-align: right;\n",
       "    }\n",
       "</style>\n",
       "<table border=\"1\" class=\"dataframe\">\n",
       "  <thead>\n",
       "    <tr style=\"text-align: right;\">\n",
       "      <th></th>\n",
       "      <th>1993</th>\n",
       "      <th>1994</th>\n",
       "      <th>1995</th>\n",
       "      <th>1996</th>\n",
       "      <th>1997</th>\n",
       "      <th>1998</th>\n",
       "      <th>1999</th>\n",
       "      <th>2000</th>\n",
       "      <th>2001</th>\n",
       "      <th>2002</th>\n",
       "      <th>...</th>\n",
       "      <th>2011</th>\n",
       "      <th>2012</th>\n",
       "      <th>2013</th>\n",
       "      <th>2014</th>\n",
       "      <th>2015</th>\n",
       "      <th>2016</th>\n",
       "      <th>2017</th>\n",
       "      <th>2018</th>\n",
       "      <th>2019</th>\n",
       "      <th>2020</th>\n",
       "    </tr>\n",
       "    <tr>\n",
       "      <th>variables</th>\n",
       "      <th></th>\n",
       "      <th></th>\n",
       "      <th></th>\n",
       "      <th></th>\n",
       "      <th></th>\n",
       "      <th></th>\n",
       "      <th></th>\n",
       "      <th></th>\n",
       "      <th></th>\n",
       "      <th></th>\n",
       "      <th></th>\n",
       "      <th></th>\n",
       "      <th></th>\n",
       "      <th></th>\n",
       "      <th></th>\n",
       "      <th></th>\n",
       "      <th></th>\n",
       "      <th></th>\n",
       "      <th></th>\n",
       "      <th></th>\n",
       "      <th></th>\n",
       "    </tr>\n",
       "  </thead>\n",
       "  <tbody>\n",
       "    <tr>\n",
       "      <th>IED(millones€)</th>\n",
       "      <td>4.389000e+09</td>\n",
       "      <td>1.097250e+10</td>\n",
       "      <td>9.526290e+09</td>\n",
       "      <td>9.185600e+09</td>\n",
       "      <td>1.282980e+10</td>\n",
       "      <td>1.275676e+10</td>\n",
       "      <td>1.394104e+10</td>\n",
       "      <td>1.838228e+10</td>\n",
       "      <td>3.006002e+10</td>\n",
       "      <td>2.405513e+10</td>\n",
       "      <td>...</td>\n",
       "      <td>2.383515e+10</td>\n",
       "      <td>1.820348e+10</td>\n",
       "      <td>5.079144e+10</td>\n",
       "      <td>2.860793e+10</td>\n",
       "      <td>3.573781e+10</td>\n",
       "      <td>3.877818e+10</td>\n",
       "      <td>3.301667e+10</td>\n",
       "      <td>3.765302e+10</td>\n",
       "      <td>2.935397e+10</td>\n",
       "      <td>2.907940e+10</td>\n",
       "    </tr>\n",
       "  </tbody>\n",
       "</table>\n",
       "<p>1 rows × 28 columns</p>\n",
       "</div>"
      ],
      "text/plain": [
       "                        1993          1994          1995          1996  \\\n",
       "variables                                                                \n",
       "IED(millones€)  4.389000e+09  1.097250e+10  9.526290e+09  9.185600e+09   \n",
       "\n",
       "                        1997          1998          1999          2000  \\\n",
       "variables                                                                \n",
       "IED(millones€)  1.282980e+10  1.275676e+10  1.394104e+10  1.838228e+10   \n",
       "\n",
       "                        2001          2002      ...               2011  \\\n",
       "variables                                       ...                      \n",
       "IED(millones€)  3.006002e+10  2.405513e+10      ...       2.383515e+10   \n",
       "\n",
       "                        2012          2013          2014          2015  \\\n",
       "variables                                                                \n",
       "IED(millones€)  1.820348e+10  5.079144e+10  2.860793e+10  3.573781e+10   \n",
       "\n",
       "                        2016          2017          2018          2019  \\\n",
       "variables                                                                \n",
       "IED(millones€)  3.877818e+10  3.301667e+10  3.765302e+10  2.935397e+10   \n",
       "\n",
       "                        2020  \n",
       "variables                     \n",
       "IED(millones€)  2.907940e+10  \n",
       "\n",
       "[1 rows x 28 columns]"
      ]
     },
     "execution_count": 11,
     "metadata": {},
     "output_type": "execute_result"
    }
   ],
   "source": [
    "df_IED.set_index('variables', inplace=True)\n",
    "df_IED.head()"
   ]
  },
  {
   "cell_type": "code",
   "execution_count": 12,
   "metadata": {},
   "outputs": [
    {
     "data": {
      "text/html": [
       "<div>\n",
       "<style scoped>\n",
       "    .dataframe tbody tr th:only-of-type {\n",
       "        vertical-align: middle;\n",
       "    }\n",
       "\n",
       "    .dataframe tbody tr th {\n",
       "        vertical-align: top;\n",
       "    }\n",
       "\n",
       "    .dataframe thead th {\n",
       "        text-align: right;\n",
       "    }\n",
       "</style>\n",
       "<table border=\"1\" class=\"dataframe\">\n",
       "  <thead>\n",
       "    <tr style=\"text-align: right;\">\n",
       "      <th></th>\n",
       "      <th>1993</th>\n",
       "      <th>1994</th>\n",
       "      <th>1995</th>\n",
       "      <th>1996</th>\n",
       "      <th>1997</th>\n",
       "      <th>1998</th>\n",
       "      <th>1999</th>\n",
       "      <th>2000</th>\n",
       "      <th>2001</th>\n",
       "      <th>2002</th>\n",
       "      <th>...</th>\n",
       "      <th>2011</th>\n",
       "      <th>2012</th>\n",
       "      <th>2013</th>\n",
       "      <th>2014</th>\n",
       "      <th>2015</th>\n",
       "      <th>2016</th>\n",
       "      <th>2017</th>\n",
       "      <th>2018</th>\n",
       "      <th>2019</th>\n",
       "      <th>2020</th>\n",
       "    </tr>\n",
       "    <tr>\n",
       "      <th>variables</th>\n",
       "      <th></th>\n",
       "      <th></th>\n",
       "      <th></th>\n",
       "      <th></th>\n",
       "      <th></th>\n",
       "      <th></th>\n",
       "      <th></th>\n",
       "      <th></th>\n",
       "      <th></th>\n",
       "      <th></th>\n",
       "      <th></th>\n",
       "      <th></th>\n",
       "      <th></th>\n",
       "      <th></th>\n",
       "      <th></th>\n",
       "      <th></th>\n",
       "      <th></th>\n",
       "      <th></th>\n",
       "      <th></th>\n",
       "      <th></th>\n",
       "      <th></th>\n",
       "    </tr>\n",
       "  </thead>\n",
       "  <tbody>\n",
       "    <tr>\n",
       "      <th>IED(millones€)</th>\n",
       "      <td>3.903577e+09</td>\n",
       "      <td>8.807626e+09</td>\n",
       "      <td>7.113281e+09</td>\n",
       "      <td>7.275914e+09</td>\n",
       "      <td>1.172002e+10</td>\n",
       "      <td>1.087642e+10</td>\n",
       "      <td>1.383788e+10</td>\n",
       "      <td>1.950544e+10</td>\n",
       "      <td>3.374237e+10</td>\n",
       "      <td>2.291010e+10</td>\n",
       "      <td>...</td>\n",
       "      <td>1.841742e+10</td>\n",
       "      <td>1.379277e+10</td>\n",
       "      <td>3.694570e+10</td>\n",
       "      <td>2.364159e+10</td>\n",
       "      <td>3.290380e+10</td>\n",
       "      <td>3.686641e+10</td>\n",
       "      <td>2.751279e+10</td>\n",
       "      <td>3.282214e+10</td>\n",
       "      <td>2.617493e+10</td>\n",
       "      <td>2.380149e+10</td>\n",
       "    </tr>\n",
       "  </tbody>\n",
       "</table>\n",
       "<p>1 rows × 28 columns</p>\n",
       "</div>"
      ],
      "text/plain": [
       "                        1993          1994          1995          1996  \\\n",
       "variables                                                                \n",
       "IED(millones€)  3.903577e+09  8.807626e+09  7.113281e+09  7.275914e+09   \n",
       "\n",
       "                        1997          1998          1999          2000  \\\n",
       "variables                                                                \n",
       "IED(millones€)  1.172002e+10  1.087642e+10  1.383788e+10  1.950544e+10   \n",
       "\n",
       "                        2001          2002      ...               2011  \\\n",
       "variables                                       ...                      \n",
       "IED(millones€)  3.374237e+10  2.291010e+10      ...       1.841742e+10   \n",
       "\n",
       "                        2012          2013          2014          2015  \\\n",
       "variables                                                                \n",
       "IED(millones€)  1.379277e+10  3.694570e+10  2.364159e+10  3.290380e+10   \n",
       "\n",
       "                        2016          2017          2018          2019  \\\n",
       "variables                                                                \n",
       "IED(millones€)  3.686641e+10  2.751279e+10  3.282214e+10  2.617493e+10   \n",
       "\n",
       "                        2020  \n",
       "variables                     \n",
       "IED(millones€)  2.380149e+10  \n",
       "\n",
       "[1 rows x 28 columns]"
      ]
     },
     "execution_count": 12,
     "metadata": {},
     "output_type": "execute_result"
    }
   ],
   "source": [
    "df_IED = df_IED.mul(df, axis=0)\n",
    "df_IED.head()"
   ]
  },
  {
   "cell_type": "code",
   "execution_count": 13,
   "metadata": {},
   "outputs": [
    {
     "data": {
      "text/html": [
       "<div>\n",
       "<style scoped>\n",
       "    .dataframe tbody tr th:only-of-type {\n",
       "        vertical-align: middle;\n",
       "    }\n",
       "\n",
       "    .dataframe tbody tr th {\n",
       "        vertical-align: top;\n",
       "    }\n",
       "\n",
       "    .dataframe thead th {\n",
       "        text-align: right;\n",
       "    }\n",
       "</style>\n",
       "<table border=\"1\" class=\"dataframe\">\n",
       "  <thead>\n",
       "    <tr style=\"text-align: right;\">\n",
       "      <th></th>\n",
       "      <th>1993</th>\n",
       "      <th>1994</th>\n",
       "      <th>1995</th>\n",
       "      <th>1996</th>\n",
       "      <th>1997</th>\n",
       "      <th>1998</th>\n",
       "      <th>1999</th>\n",
       "      <th>2000</th>\n",
       "      <th>2001</th>\n",
       "      <th>2002</th>\n",
       "      <th>...</th>\n",
       "      <th>2011</th>\n",
       "      <th>2012</th>\n",
       "      <th>2013</th>\n",
       "      <th>2014</th>\n",
       "      <th>2015</th>\n",
       "      <th>2016</th>\n",
       "      <th>2017</th>\n",
       "      <th>2018</th>\n",
       "      <th>2019</th>\n",
       "      <th>2020</th>\n",
       "    </tr>\n",
       "    <tr>\n",
       "      <th>variables</th>\n",
       "      <th></th>\n",
       "      <th></th>\n",
       "      <th></th>\n",
       "      <th></th>\n",
       "      <th></th>\n",
       "      <th></th>\n",
       "      <th></th>\n",
       "      <th></th>\n",
       "      <th></th>\n",
       "      <th></th>\n",
       "      <th></th>\n",
       "      <th></th>\n",
       "      <th></th>\n",
       "      <th></th>\n",
       "      <th></th>\n",
       "      <th></th>\n",
       "      <th></th>\n",
       "      <th></th>\n",
       "      <th></th>\n",
       "      <th></th>\n",
       "      <th></th>\n",
       "    </tr>\n",
       "  </thead>\n",
       "  <tbody>\n",
       "    <tr>\n",
       "      <th>IED(millones€)</th>\n",
       "      <td>3903.5766</td>\n",
       "      <td>8807.62575</td>\n",
       "      <td>7113.280743</td>\n",
       "      <td>7275.91376</td>\n",
       "      <td>11720.0223</td>\n",
       "      <td>10876.417462</td>\n",
       "      <td>13837.879512</td>\n",
       "      <td>19505.442424</td>\n",
       "      <td>33742.372813</td>\n",
       "      <td>22910.101445</td>\n",
       "      <td>...</td>\n",
       "      <td>18417.420523</td>\n",
       "      <td>13792.77396</td>\n",
       "      <td>36945.696358</td>\n",
       "      <td>23641.594688</td>\n",
       "      <td>32903.800387</td>\n",
       "      <td>36866.412186</td>\n",
       "      <td>27512.788897</td>\n",
       "      <td>32822.136842</td>\n",
       "      <td>26174.932557</td>\n",
       "      <td>23801.4889</td>\n",
       "    </tr>\n",
       "  </tbody>\n",
       "</table>\n",
       "<p>1 rows × 28 columns</p>\n",
       "</div>"
      ],
      "text/plain": [
       "                     1993        1994         1995        1996        1997  \\\n",
       "variables                                                                    \n",
       "IED(millones€)  3903.5766  8807.62575  7113.280743  7275.91376  11720.0223   \n",
       "\n",
       "                        1998          1999          2000          2001  \\\n",
       "variables                                                                \n",
       "IED(millones€)  10876.417462  13837.879512  19505.442424  33742.372813   \n",
       "\n",
       "                        2002     ...              2011         2012  \\\n",
       "variables                        ...                                  \n",
       "IED(millones€)  22910.101445     ...      18417.420523  13792.77396   \n",
       "\n",
       "                        2013          2014          2015          2016  \\\n",
       "variables                                                                \n",
       "IED(millones€)  36945.696358  23641.594688  32903.800387  36866.412186   \n",
       "\n",
       "                        2017          2018          2019        2020  \n",
       "variables                                                             \n",
       "IED(millones€)  27512.788897  32822.136842  26174.932557  23801.4889  \n",
       "\n",
       "[1 rows x 28 columns]"
      ]
     },
     "execution_count": 13,
     "metadata": {},
     "output_type": "execute_result"
    }
   ],
   "source": [
    "df_IED = df_IED.div(1000000)\n",
    "df_IED.head()"
   ]
  },
  {
   "cell_type": "code",
   "execution_count": 14,
   "metadata": {},
   "outputs": [],
   "source": [
    "df_IED = df_IED.round(2)"
   ]
  },
  {
   "cell_type": "code",
   "execution_count": 15,
   "metadata": {},
   "outputs": [],
   "source": [
    "df_IED = df_IED.transpose()"
   ]
  },
  {
   "cell_type": "code",
   "execution_count": 17,
   "metadata": {},
   "outputs": [
    {
     "data": {
      "text/html": [
       "<div>\n",
       "<style scoped>\n",
       "    .dataframe tbody tr th:only-of-type {\n",
       "        vertical-align: middle;\n",
       "    }\n",
       "\n",
       "    .dataframe tbody tr th {\n",
       "        vertical-align: top;\n",
       "    }\n",
       "\n",
       "    .dataframe thead th {\n",
       "        text-align: right;\n",
       "    }\n",
       "</style>\n",
       "<table border=\"1\" class=\"dataframe\">\n",
       "  <thead>\n",
       "    <tr style=\"text-align: right;\">\n",
       "      <th>variables</th>\n",
       "      <th>IED(millones€)</th>\n",
       "    </tr>\n",
       "  </thead>\n",
       "  <tbody>\n",
       "    <tr>\n",
       "      <th>count</th>\n",
       "      <td>28.000000</td>\n",
       "    </tr>\n",
       "    <tr>\n",
       "      <th>mean</th>\n",
       "      <td>0.019286</td>\n",
       "    </tr>\n",
       "    <tr>\n",
       "      <th>std</th>\n",
       "      <td>0.009786</td>\n",
       "    </tr>\n",
       "    <tr>\n",
       "      <th>min</th>\n",
       "      <td>0.000000</td>\n",
       "    </tr>\n",
       "    <tr>\n",
       "      <th>25%</th>\n",
       "      <td>0.010000</td>\n",
       "    </tr>\n",
       "    <tr>\n",
       "      <th>50%</th>\n",
       "      <td>0.020000</td>\n",
       "    </tr>\n",
       "    <tr>\n",
       "      <th>75%</th>\n",
       "      <td>0.022500</td>\n",
       "    </tr>\n",
       "    <tr>\n",
       "      <th>max</th>\n",
       "      <td>0.040000</td>\n",
       "    </tr>\n",
       "  </tbody>\n",
       "</table>\n",
       "</div>"
      ],
      "text/plain": [
       "variables  IED(millones€)\n",
       "count           28.000000\n",
       "mean             0.019286\n",
       "std              0.009786\n",
       "min              0.000000\n",
       "25%              0.010000\n",
       "50%              0.020000\n",
       "75%              0.022500\n",
       "max              0.040000"
      ]
     },
     "execution_count": 17,
     "metadata": {},
     "output_type": "execute_result"
    }
   ],
   "source": [
    "df_IED.describe()"
   ]
  },
  {
   "cell_type": "code",
   "execution_count": 16,
   "metadata": {},
   "outputs": [
    {
     "data": {
      "text/html": [
       "<div>\n",
       "<style scoped>\n",
       "    .dataframe tbody tr th:only-of-type {\n",
       "        vertical-align: middle;\n",
       "    }\n",
       "\n",
       "    .dataframe tbody tr th {\n",
       "        vertical-align: top;\n",
       "    }\n",
       "\n",
       "    .dataframe thead th {\n",
       "        text-align: right;\n",
       "    }\n",
       "</style>\n",
       "<table border=\"1\" class=\"dataframe\">\n",
       "  <thead>\n",
       "    <tr style=\"text-align: right;\">\n",
       "      <th>variables</th>\n",
       "      <th>IED(millones€)</th>\n",
       "    </tr>\n",
       "  </thead>\n",
       "  <tbody>\n",
       "    <tr>\n",
       "      <th>1993</th>\n",
       "      <td>3903.58</td>\n",
       "    </tr>\n",
       "    <tr>\n",
       "      <th>1994</th>\n",
       "      <td>8807.63</td>\n",
       "    </tr>\n",
       "    <tr>\n",
       "      <th>1995</th>\n",
       "      <td>7113.28</td>\n",
       "    </tr>\n",
       "    <tr>\n",
       "      <th>1996</th>\n",
       "      <td>7275.91</td>\n",
       "    </tr>\n",
       "    <tr>\n",
       "      <th>1997</th>\n",
       "      <td>11720.02</td>\n",
       "    </tr>\n",
       "  </tbody>\n",
       "</table>\n",
       "</div>"
      ],
      "text/plain": [
       "variables  IED(millones€)\n",
       "1993              3903.58\n",
       "1994              8807.63\n",
       "1995              7113.28\n",
       "1996              7275.91\n",
       "1997             11720.02"
      ]
     },
     "execution_count": 16,
     "metadata": {},
     "output_type": "execute_result"
    }
   ],
   "source": [
    "df_IED.head()"
   ]
  },
  {
   "cell_type": "code",
   "execution_count": 17,
   "metadata": {},
   "outputs": [
    {
     "data": {
      "image/png": "[encoded data removed]",
      "text/plain": [
       "<Figure size 432x288 with 1 Axes>"
      ]
     },
     "metadata": {},
     "output_type": "display_data"
    }
   ],
   "source": [
    "sns.set_theme(style=\"whitegrid\")\n",
    "ax = sns.boxplot(x=df_IED[\"IED(millones€)\"])"
   ]
  },
  {
   "cell_type": "code",
   "execution_count": 18,
   "metadata": {},
   "outputs": [
    {
     "data": {
      "text/plain": [
       "<seaborn.axisgrid.FacetGrid at 0x7fcde26072d0>"
      ]
     },
     "execution_count": 18,
     "metadata": {},
     "output_type": "execute_result"
    },
    {
     "data": {
      "image/png": "[encoded data removed]",
      "text/plain": [
       "<Figure size 471.725x360 with 1 Axes>"
      ]
     },
     "metadata": {},
     "output_type": "display_data"
    }
   ],
   "source": [
    "sns.displot(df_IED, bins=10)"
   ]
  },
  {
   "cell_type": "code",
   "execution_count": 19,
   "metadata": {},
   "outputs": [
    {
     "data": {
      "text/plain": [
       "Text(0.5, 1.0, 'Evolución de la Inversión Extranjera Directa en México')"
      ]
     },
     "execution_count": 19,
     "metadata": {},
     "output_type": "execute_result"
    },
    {
     "data": {
      "image/png": "[encoded data removed]",
      "text/plain": [
       "<Figure size 1440x360 with 1 Axes>"
      ]
     },
     "metadata": {},
     "output_type": "display_data"
    }
   ],
   "source": [
    "plt.figure(figsize=(20,5))\n",
    "sns.lineplot(data=df_IED)\n",
    "plt.title('Evolución de la Inversión Extranjera Directa en México')"
   ]
  },
  {
   "cell_type": "code",
   "execution_count": 20,
   "metadata": {},
   "outputs": [
    {
     "data": {
      "text/plain": [
       "variables\n",
       "IED(millones€)    563288.64\n",
       "dtype: float64"
      ]
     },
     "execution_count": 20,
     "metadata": {},
     "output_type": "execute_result"
    }
   ],
   "source": [
    "df_IED.sum()"
   ]
  },
  {
   "cell_type": "code",
   "execution_count": 21,
   "metadata": {},
   "outputs": [
    {
     "data": {
      "text/html": [
       "<div>\n",
       "<style scoped>\n",
       "    .dataframe tbody tr th:only-of-type {\n",
       "        vertical-align: middle;\n",
       "    }\n",
       "\n",
       "    .dataframe tbody tr th {\n",
       "        vertical-align: top;\n",
       "    }\n",
       "\n",
       "    .dataframe thead th {\n",
       "        text-align: right;\n",
       "    }\n",
       "</style>\n",
       "<table border=\"1\" class=\"dataframe\">\n",
       "  <thead>\n",
       "    <tr style=\"text-align: right;\">\n",
       "      <th>variables</th>\n",
       "      <th>IED(millones€)</th>\n",
       "    </tr>\n",
       "  </thead>\n",
       "  <tbody>\n",
       "    <tr>\n",
       "      <th>2013</th>\n",
       "      <td>36945.7</td>\n",
       "    </tr>\n",
       "  </tbody>\n",
       "</table>\n",
       "</div>"
      ],
      "text/plain": [
       "variables  IED(millones€)\n",
       "2013              36945.7"
      ]
     },
     "execution_count": 21,
     "metadata": {},
     "output_type": "execute_result"
    }
   ],
   "source": [
    "df_IED.loc[df_IED['IED(millones€)'] == df_IED['IED(millones€)'].max()]"
   ]
  },
  {
   "cell_type": "code",
   "execution_count": 22,
   "metadata": {},
   "outputs": [
    {
     "name": "stdout",
     "output_type": "stream",
     "text": [
      "Stored 'df_IED' (DataFrame)\n"
     ]
    }
   ],
   "source": [
    "%store df_IED"
   ]
  },
  {
   "cell_type": "code",
   "execution_count": null,
   "metadata": {},
   "outputs": [],
   "source": []
  },
  {
   "cell_type": "code",
   "execution_count": null,
   "metadata": {},
   "outputs": [],
   "source": []
  },
  {
   "cell_type": "code",
   "execution_count": null,
   "metadata": {},
   "outputs": [],
   "source": []
  },
  {
   "cell_type": "code",
   "execution_count": null,
   "metadata": {},
   "outputs": [],
   "source": []
  },
  {
   "cell_type": "code",
   "execution_count": null,
   "metadata": {},
   "outputs": [],
   "source": []
  },
  {
   "cell_type": "code",
   "execution_count": null,
   "metadata": {},
   "outputs": [],
   "source": []
  },
  {
   "cell_type": "code",
   "execution_count": null,
   "metadata": {},
   "outputs": [],
   "source": []
  },
  {
   "cell_type": "code",
   "execution_count": null,
   "metadata": {},
   "outputs": [],
   "source": []
  },
  {
   "cell_type": "code",
   "execution_count": null,
   "metadata": {},
   "outputs": [],
   "source": []
  }
 ],
 "metadata": {
  "kernelspec": {
   "display_name": "Python 3",
   "language": "python",
   "name": "python3"
  },
  "language_info": {
   "codemirror_mode": {
    "name": "ipython",
    "version": 3
   },
   "file_extension": ".py",
   "mimetype": "text/x-python",
   "name": "python",
   "nbconvert_exporter": "python",
   "pygments_lexer": "ipython3",
   "version": "3.7.9"
  }
 },
 "nbformat": 4,
 "nbformat_minor": 4
}

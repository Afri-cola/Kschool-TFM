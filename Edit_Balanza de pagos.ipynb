{
 "cells": [
  {
   "cell_type": "markdown",
   "metadata": {},
   "source": [
    "## Balanza de pagos\n",
    "\n",
    "- DataFrame --> df_balanzapagos\n"
   ]
  },
  {
   "cell_type": "code",
   "execution_count": 1,
   "metadata": {},
   "outputs": [],
   "source": [
    "import pandas as pd\n",
    "import numpy as np\n",
    "import seaborn as sns\n",
    "import matplotlib.pyplot as plt"
   ]
  },
  {
   "cell_type": "code",
   "execution_count": 2,
   "metadata": {},
   "outputs": [
    {
     "data": {
      "text/html": [
       "<div>\n",
       "<style scoped>\n",
       "    .dataframe tbody tr th:only-of-type {\n",
       "        vertical-align: middle;\n",
       "    }\n",
       "\n",
       "    .dataframe tbody tr th {\n",
       "        vertical-align: top;\n",
       "    }\n",
       "\n",
       "    .dataframe thead th {\n",
       "        text-align: right;\n",
       "    }\n",
       "</style>\n",
       "<table border=\"1\" class=\"dataframe\">\n",
       "  <thead>\n",
       "    <tr style=\"text-align: right;\">\n",
       "      <th></th>\n",
       "      <th>Unnamed: 0</th>\n",
       "      <th>1993</th>\n",
       "      <th>1994</th>\n",
       "      <th>1995</th>\n",
       "      <th>1996</th>\n",
       "      <th>1997</th>\n",
       "      <th>1998</th>\n",
       "      <th>1999</th>\n",
       "      <th>2000</th>\n",
       "      <th>2001</th>\n",
       "      <th>...</th>\n",
       "      <th>2011</th>\n",
       "      <th>2012</th>\n",
       "      <th>2013</th>\n",
       "      <th>2014</th>\n",
       "      <th>2015</th>\n",
       "      <th>2016</th>\n",
       "      <th>2017</th>\n",
       "      <th>2018</th>\n",
       "      <th>2019</th>\n",
       "      <th>2020</th>\n",
       "    </tr>\n",
       "  </thead>\n",
       "  <tbody>\n",
       "    <tr>\n",
       "      <th>0</th>\n",
       "      <td>Tipo de cambio</td>\n",
       "      <td>0.8894</td>\n",
       "      <td>0.8027</td>\n",
       "      <td>0.7467</td>\n",
       "      <td>0.7921</td>\n",
       "      <td>0.9135</td>\n",
       "      <td>0.8526</td>\n",
       "      <td>0.9926</td>\n",
       "      <td>1.0611</td>\n",
       "      <td>1.1225</td>\n",
       "      <td>...</td>\n",
       "      <td>0.7727</td>\n",
       "      <td>0.7577</td>\n",
       "      <td>0.7274</td>\n",
       "      <td>0.8264</td>\n",
       "      <td>0.9207</td>\n",
       "      <td>0.9507</td>\n",
       "      <td>0.8333</td>\n",
       "      <td>0.8717</td>\n",
       "      <td>0.8917</td>\n",
       "      <td>0.8185</td>\n",
       "    </tr>\n",
       "  </tbody>\n",
       "</table>\n",
       "<p>1 rows × 29 columns</p>\n",
       "</div>"
      ],
      "text/plain": [
       "       Unnamed: 0    1993    1994    1995    1996    1997    1998    1999  \\\n",
       "0  Tipo de cambio  0.8894  0.8027  0.7467  0.7921  0.9135  0.8526  0.9926   \n",
       "\n",
       "     2000    2001   ...      2011    2012    2013    2014    2015    2016  \\\n",
       "0  1.0611  1.1225   ...    0.7727  0.7577  0.7274  0.8264  0.9207  0.9507   \n",
       "\n",
       "     2017    2018    2019    2020  \n",
       "0  0.8333  0.8717  0.8917  0.8185  \n",
       "\n",
       "[1 rows x 29 columns]"
      ]
     },
     "execution_count": 2,
     "metadata": {},
     "output_type": "execute_result"
    }
   ],
   "source": [
    "root = 'Tipo de cambio- Dolar a Euro.csv'\n",
    "\n",
    "df = pd.read_csv(root)\n",
    "df.head()"
   ]
  },
  {
   "cell_type": "code",
   "execution_count": 3,
   "metadata": {},
   "outputs": [],
   "source": [
    "df.rename(columns={'Unnamed: 0' : 'variables'}, inplace=True)"
   ]
  },
  {
   "cell_type": "code",
   "execution_count": 4,
   "metadata": {},
   "outputs": [],
   "source": [
    "df= df.replace({'Tipo de cambio': 'Saldo Balanza Pagos(millones€)'})"
   ]
  },
  {
   "cell_type": "code",
   "execution_count": 7,
   "metadata": {},
   "outputs": [
    {
     "data": {
      "text/html": [
       "<div>\n",
       "<style scoped>\n",
       "    .dataframe tbody tr th:only-of-type {\n",
       "        vertical-align: middle;\n",
       "    }\n",
       "\n",
       "    .dataframe tbody tr th {\n",
       "        vertical-align: top;\n",
       "    }\n",
       "\n",
       "    .dataframe thead th {\n",
       "        text-align: right;\n",
       "    }\n",
       "</style>\n",
       "<table border=\"1\" class=\"dataframe\">\n",
       "  <thead>\n",
       "    <tr style=\"text-align: right;\">\n",
       "      <th></th>\n",
       "      <th>country</th>\n",
       "      <th>variables</th>\n",
       "      <th>1993</th>\n",
       "      <th>1994</th>\n",
       "      <th>1995</th>\n",
       "      <th>1996</th>\n",
       "      <th>1997</th>\n",
       "      <th>1998</th>\n",
       "      <th>1999</th>\n",
       "      <th>2000</th>\n",
       "      <th>...</th>\n",
       "      <th>2011</th>\n",
       "      <th>2012</th>\n",
       "      <th>2013</th>\n",
       "      <th>2014</th>\n",
       "      <th>2015</th>\n",
       "      <th>2016</th>\n",
       "      <th>2017</th>\n",
       "      <th>2018</th>\n",
       "      <th>2019</th>\n",
       "      <th>2020</th>\n",
       "    </tr>\n",
       "  </thead>\n",
       "  <tbody>\n",
       "    <tr>\n",
       "      <th>152</th>\n",
       "      <td>MEXICO</td>\n",
       "      <td>Saldo Balanza Pagos(millones€)</td>\n",
       "      <td>-2.340000e+10</td>\n",
       "      <td>-2.966211e+10</td>\n",
       "      <td>-1.576440e+09</td>\n",
       "      <td>-2.507747e+09</td>\n",
       "      <td>-7.664937e+09</td>\n",
       "      <td>-1.599266e+10</td>\n",
       "      <td>-1.399973e+10</td>\n",
       "      <td>-1.875242e+10</td>\n",
       "      <td>...</td>\n",
       "      <td>-1.188892e+10</td>\n",
       "      <td>-1.863657e+10</td>\n",
       "      <td>-3.151673e+10</td>\n",
       "      <td>-2.542722e+10</td>\n",
       "      <td>-3.105781e+10</td>\n",
       "      <td>-2.435194e+10</td>\n",
       "      <td>-2.043428e+10</td>\n",
       "      <td>-2.533947e+10</td>\n",
       "      <td>-4.238331e+09</td>\n",
       "      <td>NaN</td>\n",
       "    </tr>\n",
       "  </tbody>\n",
       "</table>\n",
       "<p>1 rows × 30 columns</p>\n",
       "</div>"
      ],
      "text/plain": [
       "    country                       variables          1993          1994  \\\n",
       "152  MEXICO  Saldo Balanza Pagos(millones€) -2.340000e+10 -2.966211e+10   \n",
       "\n",
       "             1995          1996          1997          1998          1999  \\\n",
       "152 -1.576440e+09 -2.507747e+09 -7.664937e+09 -1.599266e+10 -1.399973e+10   \n",
       "\n",
       "             2000  ...           2011          2012          2013  \\\n",
       "152 -1.875242e+10  ...  -1.188892e+10 -1.863657e+10 -3.151673e+10   \n",
       "\n",
       "             2014          2015          2016          2017          2018  \\\n",
       "152 -2.542722e+10 -3.105781e+10 -2.435194e+10 -2.043428e+10 -2.533947e+10   \n",
       "\n",
       "             2019  2020  \n",
       "152 -4.238331e+09   NaN  \n",
       "\n",
       "[1 rows x 30 columns]"
      ]
     },
     "execution_count": 7,
     "metadata": {},
     "output_type": "execute_result"
    }
   ],
   "source": [
    "root_2 = 'Variables_economicas/balanza de pagos.csv'\n",
    "\n",
    "df_balanzapagos = pd.read_csv(root_2, header=0)\n",
    "df_balanzapagos.rename(columns={'Country Name':'country', 'Indicator Name':'variables' }, inplace=True)\n",
    "df_balanzapagos = df_balanzapagos[df_balanzapagos.country == 'México']\n",
    "df_balanzapagos = df_balanzapagos.drop(['Indicator Code', 'Country Code'], axis=1)\n",
    "df_balanzapagos['country'] = df_balanzapagos['country'].replace('México', 'MEXICO')\n",
    "df_balanzapagos = df_balanzapagos.replace({'Saldo en cuenta corriente (balanza de pagos, US$ a precios actuales)': 'Saldo Balanza Pagos(millones€)'})\n",
    "\n",
    "\n",
    "\n",
    "df_balanzapagos.head()\n"
   ]
  },
  {
   "cell_type": "code",
   "execution_count": 8,
   "metadata": {},
   "outputs": [],
   "source": [
    "df_balanzapagos = df_balanzapagos.drop(['country'], axis=1)"
   ]
  },
  {
   "cell_type": "code",
   "execution_count": 9,
   "metadata": {},
   "outputs": [],
   "source": [
    "df_balanzapagos.set_index('variables', inplace=True)"
   ]
  },
  {
   "cell_type": "code",
   "execution_count": 10,
   "metadata": {},
   "outputs": [
    {
     "data": {
      "text/html": [
       "<div>\n",
       "<style scoped>\n",
       "    .dataframe tbody tr th:only-of-type {\n",
       "        vertical-align: middle;\n",
       "    }\n",
       "\n",
       "    .dataframe tbody tr th {\n",
       "        vertical-align: top;\n",
       "    }\n",
       "\n",
       "    .dataframe thead th {\n",
       "        text-align: right;\n",
       "    }\n",
       "</style>\n",
       "<table border=\"1\" class=\"dataframe\">\n",
       "  <thead>\n",
       "    <tr style=\"text-align: right;\">\n",
       "      <th></th>\n",
       "      <th>1993</th>\n",
       "      <th>1994</th>\n",
       "      <th>1995</th>\n",
       "      <th>1996</th>\n",
       "      <th>1997</th>\n",
       "      <th>1998</th>\n",
       "      <th>1999</th>\n",
       "      <th>2000</th>\n",
       "      <th>2001</th>\n",
       "      <th>2002</th>\n",
       "      <th>...</th>\n",
       "      <th>2011</th>\n",
       "      <th>2012</th>\n",
       "      <th>2013</th>\n",
       "      <th>2014</th>\n",
       "      <th>2015</th>\n",
       "      <th>2016</th>\n",
       "      <th>2017</th>\n",
       "      <th>2018</th>\n",
       "      <th>2019</th>\n",
       "      <th>2020</th>\n",
       "    </tr>\n",
       "    <tr>\n",
       "      <th>variables</th>\n",
       "      <th></th>\n",
       "      <th></th>\n",
       "      <th></th>\n",
       "      <th></th>\n",
       "      <th></th>\n",
       "      <th></th>\n",
       "      <th></th>\n",
       "      <th></th>\n",
       "      <th></th>\n",
       "      <th></th>\n",
       "      <th></th>\n",
       "      <th></th>\n",
       "      <th></th>\n",
       "      <th></th>\n",
       "      <th></th>\n",
       "      <th></th>\n",
       "      <th></th>\n",
       "      <th></th>\n",
       "      <th></th>\n",
       "      <th></th>\n",
       "      <th></th>\n",
       "    </tr>\n",
       "  </thead>\n",
       "  <tbody>\n",
       "    <tr>\n",
       "      <th>Saldo Balanza Pagos(millones€)</th>\n",
       "      <td>-2.340000e+10</td>\n",
       "      <td>-2.966211e+10</td>\n",
       "      <td>-1.576440e+09</td>\n",
       "      <td>-2.507747e+09</td>\n",
       "      <td>-7.664937e+09</td>\n",
       "      <td>-1.599266e+10</td>\n",
       "      <td>-1.399973e+10</td>\n",
       "      <td>-1.875242e+10</td>\n",
       "      <td>-1.775251e+10</td>\n",
       "      <td>-1.487638e+10</td>\n",
       "      <td>...</td>\n",
       "      <td>-1.188892e+10</td>\n",
       "      <td>-1.863657e+10</td>\n",
       "      <td>-3.151673e+10</td>\n",
       "      <td>-2.542722e+10</td>\n",
       "      <td>-3.105781e+10</td>\n",
       "      <td>-2.435194e+10</td>\n",
       "      <td>-2.043428e+10</td>\n",
       "      <td>-2.533947e+10</td>\n",
       "      <td>-4.238331e+09</td>\n",
       "      <td>NaN</td>\n",
       "    </tr>\n",
       "  </tbody>\n",
       "</table>\n",
       "<p>1 rows × 28 columns</p>\n",
       "</div>"
      ],
      "text/plain": [
       "                                        1993          1994          1995  \\\n",
       "variables                                                                  \n",
       "Saldo Balanza Pagos(millones€) -2.340000e+10 -2.966211e+10 -1.576440e+09   \n",
       "\n",
       "                                        1996          1997          1998  \\\n",
       "variables                                                                  \n",
       "Saldo Balanza Pagos(millones€) -2.507747e+09 -7.664937e+09 -1.599266e+10   \n",
       "\n",
       "                                        1999          2000          2001  \\\n",
       "variables                                                                  \n",
       "Saldo Balanza Pagos(millones€) -1.399973e+10 -1.875242e+10 -1.775251e+10   \n",
       "\n",
       "                                        2002  ...           2011  \\\n",
       "variables                                     ...                  \n",
       "Saldo Balanza Pagos(millones€) -1.487638e+10  ...  -1.188892e+10   \n",
       "\n",
       "                                        2012          2013          2014  \\\n",
       "variables                                                                  \n",
       "Saldo Balanza Pagos(millones€) -1.863657e+10 -3.151673e+10 -2.542722e+10   \n",
       "\n",
       "                                        2015          2016          2017  \\\n",
       "variables                                                                  \n",
       "Saldo Balanza Pagos(millones€) -3.105781e+10 -2.435194e+10 -2.043428e+10   \n",
       "\n",
       "                                        2018          2019  2020  \n",
       "variables                                                         \n",
       "Saldo Balanza Pagos(millones€) -2.533947e+10 -4.238331e+09   NaN  \n",
       "\n",
       "[1 rows x 28 columns]"
      ]
     },
     "execution_count": 10,
     "metadata": {},
     "output_type": "execute_result"
    }
   ],
   "source": [
    "df_balanzapagos.head()"
   ]
  },
  {
   "cell_type": "code",
   "execution_count": 11,
   "metadata": {},
   "outputs": [
    {
     "data": {
      "text/html": [
       "<div>\n",
       "<style scoped>\n",
       "    .dataframe tbody tr th:only-of-type {\n",
       "        vertical-align: middle;\n",
       "    }\n",
       "\n",
       "    .dataframe tbody tr th {\n",
       "        vertical-align: top;\n",
       "    }\n",
       "\n",
       "    .dataframe thead th {\n",
       "        text-align: right;\n",
       "    }\n",
       "</style>\n",
       "<table border=\"1\" class=\"dataframe\">\n",
       "  <thead>\n",
       "    <tr style=\"text-align: right;\">\n",
       "      <th></th>\n",
       "      <th>1993</th>\n",
       "      <th>1994</th>\n",
       "      <th>1995</th>\n",
       "      <th>1996</th>\n",
       "      <th>1997</th>\n",
       "      <th>1998</th>\n",
       "      <th>1999</th>\n",
       "      <th>2000</th>\n",
       "      <th>2001</th>\n",
       "      <th>2002</th>\n",
       "      <th>...</th>\n",
       "      <th>2011</th>\n",
       "      <th>2012</th>\n",
       "      <th>2013</th>\n",
       "      <th>2014</th>\n",
       "      <th>2015</th>\n",
       "      <th>2016</th>\n",
       "      <th>2017</th>\n",
       "      <th>2018</th>\n",
       "      <th>2019</th>\n",
       "      <th>2020</th>\n",
       "    </tr>\n",
       "    <tr>\n",
       "      <th>variables</th>\n",
       "      <th></th>\n",
       "      <th></th>\n",
       "      <th></th>\n",
       "      <th></th>\n",
       "      <th></th>\n",
       "      <th></th>\n",
       "      <th></th>\n",
       "      <th></th>\n",
       "      <th></th>\n",
       "      <th></th>\n",
       "      <th></th>\n",
       "      <th></th>\n",
       "      <th></th>\n",
       "      <th></th>\n",
       "      <th></th>\n",
       "      <th></th>\n",
       "      <th></th>\n",
       "      <th></th>\n",
       "      <th></th>\n",
       "      <th></th>\n",
       "      <th></th>\n",
       "    </tr>\n",
       "  </thead>\n",
       "  <tbody>\n",
       "    <tr>\n",
       "      <th>Saldo Balanza Pagos(millones€)</th>\n",
       "      <td>-23400.0</td>\n",
       "      <td>-29662.11</td>\n",
       "      <td>-1576.44</td>\n",
       "      <td>-2507.747</td>\n",
       "      <td>-7664.937</td>\n",
       "      <td>-15992.658</td>\n",
       "      <td>-13999.73493</td>\n",
       "      <td>-18752.421871</td>\n",
       "      <td>-17752.510948</td>\n",
       "      <td>-14876.37687</td>\n",
       "      <td>...</td>\n",
       "      <td>-11888.922911</td>\n",
       "      <td>-18636.570477</td>\n",
       "      <td>-31516.728043</td>\n",
       "      <td>-25427.221532</td>\n",
       "      <td>-31057.805133</td>\n",
       "      <td>-24351.94461</td>\n",
       "      <td>-20434.281744</td>\n",
       "      <td>-25339.472661</td>\n",
       "      <td>-4238.330801</td>\n",
       "      <td>NaN</td>\n",
       "    </tr>\n",
       "  </tbody>\n",
       "</table>\n",
       "<p>1 rows × 28 columns</p>\n",
       "</div>"
      ],
      "text/plain": [
       "                                   1993      1994     1995      1996  \\\n",
       "variables                                                              \n",
       "Saldo Balanza Pagos(millones€) -23400.0 -29662.11 -1576.44 -2507.747   \n",
       "\n",
       "                                    1997       1998         1999  \\\n",
       "variables                                                          \n",
       "Saldo Balanza Pagos(millones€) -7664.937 -15992.658 -13999.73493   \n",
       "\n",
       "                                        2000          2001         2002  ...   \\\n",
       "variables                                                                ...    \n",
       "Saldo Balanza Pagos(millones€) -18752.421871 -17752.510948 -14876.37687  ...    \n",
       "\n",
       "                                        2011          2012          2013  \\\n",
       "variables                                                                  \n",
       "Saldo Balanza Pagos(millones€) -11888.922911 -18636.570477 -31516.728043   \n",
       "\n",
       "                                        2014          2015         2016  \\\n",
       "variables                                                                 \n",
       "Saldo Balanza Pagos(millones€) -25427.221532 -31057.805133 -24351.94461   \n",
       "\n",
       "                                        2017          2018         2019  2020  \n",
       "variables                                                                      \n",
       "Saldo Balanza Pagos(millones€) -20434.281744 -25339.472661 -4238.330801   NaN  \n",
       "\n",
       "[1 rows x 28 columns]"
      ]
     },
     "execution_count": 11,
     "metadata": {},
     "output_type": "execute_result"
    }
   ],
   "source": [
    "df_balanzapagos = df_balanzapagos.div(1000000)\n",
    "df_balanzapagos.head()"
   ]
  },
  {
   "cell_type": "code",
   "execution_count": 12,
   "metadata": {},
   "outputs": [
    {
     "data": {
      "text/html": [
       "<div>\n",
       "<style scoped>\n",
       "    .dataframe tbody tr th:only-of-type {\n",
       "        vertical-align: middle;\n",
       "    }\n",
       "\n",
       "    .dataframe tbody tr th {\n",
       "        vertical-align: top;\n",
       "    }\n",
       "\n",
       "    .dataframe thead th {\n",
       "        text-align: right;\n",
       "    }\n",
       "</style>\n",
       "<table border=\"1\" class=\"dataframe\">\n",
       "  <thead>\n",
       "    <tr style=\"text-align: right;\">\n",
       "      <th></th>\n",
       "      <th>1993</th>\n",
       "      <th>1994</th>\n",
       "      <th>1995</th>\n",
       "      <th>1996</th>\n",
       "      <th>1997</th>\n",
       "      <th>1998</th>\n",
       "      <th>1999</th>\n",
       "      <th>2000</th>\n",
       "      <th>2001</th>\n",
       "      <th>2002</th>\n",
       "      <th>...</th>\n",
       "      <th>2011</th>\n",
       "      <th>2012</th>\n",
       "      <th>2013</th>\n",
       "      <th>2014</th>\n",
       "      <th>2015</th>\n",
       "      <th>2016</th>\n",
       "      <th>2017</th>\n",
       "      <th>2018</th>\n",
       "      <th>2019</th>\n",
       "      <th>2020</th>\n",
       "    </tr>\n",
       "    <tr>\n",
       "      <th>variables</th>\n",
       "      <th></th>\n",
       "      <th></th>\n",
       "      <th></th>\n",
       "      <th></th>\n",
       "      <th></th>\n",
       "      <th></th>\n",
       "      <th></th>\n",
       "      <th></th>\n",
       "      <th></th>\n",
       "      <th></th>\n",
       "      <th></th>\n",
       "      <th></th>\n",
       "      <th></th>\n",
       "      <th></th>\n",
       "      <th></th>\n",
       "      <th></th>\n",
       "      <th></th>\n",
       "      <th></th>\n",
       "      <th></th>\n",
       "      <th></th>\n",
       "      <th></th>\n",
       "    </tr>\n",
       "  </thead>\n",
       "  <tbody>\n",
       "    <tr>\n",
       "      <th>Saldo Balanza Pagos(millones€)</th>\n",
       "      <td>0.8894</td>\n",
       "      <td>0.8027</td>\n",
       "      <td>0.7467</td>\n",
       "      <td>0.7921</td>\n",
       "      <td>0.9135</td>\n",
       "      <td>0.8526</td>\n",
       "      <td>0.9926</td>\n",
       "      <td>1.0611</td>\n",
       "      <td>1.1225</td>\n",
       "      <td>0.9524</td>\n",
       "      <td>...</td>\n",
       "      <td>0.7727</td>\n",
       "      <td>0.7577</td>\n",
       "      <td>0.7274</td>\n",
       "      <td>0.8264</td>\n",
       "      <td>0.9207</td>\n",
       "      <td>0.9507</td>\n",
       "      <td>0.8333</td>\n",
       "      <td>0.8717</td>\n",
       "      <td>0.8917</td>\n",
       "      <td>0.8185</td>\n",
       "    </tr>\n",
       "  </tbody>\n",
       "</table>\n",
       "<p>1 rows × 28 columns</p>\n",
       "</div>"
      ],
      "text/plain": [
       "                                  1993    1994    1995    1996    1997  \\\n",
       "variables                                                                \n",
       "Saldo Balanza Pagos(millones€)  0.8894  0.8027  0.7467  0.7921  0.9135   \n",
       "\n",
       "                                  1998    1999    2000    2001    2002  \\\n",
       "variables                                                                \n",
       "Saldo Balanza Pagos(millones€)  0.8526  0.9926  1.0611  1.1225  0.9524   \n",
       "\n",
       "                                 ...      2011    2012    2013    2014  \\\n",
       "variables                        ...                                     \n",
       "Saldo Balanza Pagos(millones€)   ...    0.7727  0.7577  0.7274  0.8264   \n",
       "\n",
       "                                  2015    2016    2017    2018    2019    2020  \n",
       "variables                                                                       \n",
       "Saldo Balanza Pagos(millones€)  0.9207  0.9507  0.8333  0.8717  0.8917  0.8185  \n",
       "\n",
       "[1 rows x 28 columns]"
      ]
     },
     "execution_count": 12,
     "metadata": {},
     "output_type": "execute_result"
    }
   ],
   "source": [
    "df.set_index('variables', inplace=True)\n",
    "df.head()"
   ]
  },
  {
   "cell_type": "code",
   "execution_count": 13,
   "metadata": {},
   "outputs": [
    {
     "data": {
      "text/html": [
       "<div>\n",
       "<style scoped>\n",
       "    .dataframe tbody tr th:only-of-type {\n",
       "        vertical-align: middle;\n",
       "    }\n",
       "\n",
       "    .dataframe tbody tr th {\n",
       "        vertical-align: top;\n",
       "    }\n",
       "\n",
       "    .dataframe thead th {\n",
       "        text-align: right;\n",
       "    }\n",
       "</style>\n",
       "<table border=\"1\" class=\"dataframe\">\n",
       "  <thead>\n",
       "    <tr style=\"text-align: right;\">\n",
       "      <th></th>\n",
       "      <th>1993</th>\n",
       "      <th>1994</th>\n",
       "      <th>1995</th>\n",
       "      <th>1996</th>\n",
       "      <th>1997</th>\n",
       "      <th>1998</th>\n",
       "      <th>1999</th>\n",
       "      <th>2000</th>\n",
       "      <th>2001</th>\n",
       "      <th>2002</th>\n",
       "      <th>...</th>\n",
       "      <th>2011</th>\n",
       "      <th>2012</th>\n",
       "      <th>2013</th>\n",
       "      <th>2014</th>\n",
       "      <th>2015</th>\n",
       "      <th>2016</th>\n",
       "      <th>2017</th>\n",
       "      <th>2018</th>\n",
       "      <th>2019</th>\n",
       "      <th>2020</th>\n",
       "    </tr>\n",
       "    <tr>\n",
       "      <th>variables</th>\n",
       "      <th></th>\n",
       "      <th></th>\n",
       "      <th></th>\n",
       "      <th></th>\n",
       "      <th></th>\n",
       "      <th></th>\n",
       "      <th></th>\n",
       "      <th></th>\n",
       "      <th></th>\n",
       "      <th></th>\n",
       "      <th></th>\n",
       "      <th></th>\n",
       "      <th></th>\n",
       "      <th></th>\n",
       "      <th></th>\n",
       "      <th></th>\n",
       "      <th></th>\n",
       "      <th></th>\n",
       "      <th></th>\n",
       "      <th></th>\n",
       "      <th></th>\n",
       "    </tr>\n",
       "  </thead>\n",
       "  <tbody>\n",
       "    <tr>\n",
       "      <th>Saldo Balanza Pagos(millones€)</th>\n",
       "      <td>-20811.96</td>\n",
       "      <td>-23809.775697</td>\n",
       "      <td>-1177.127748</td>\n",
       "      <td>-1986.386399</td>\n",
       "      <td>-7001.919949</td>\n",
       "      <td>-13635.340211</td>\n",
       "      <td>-13896.136892</td>\n",
       "      <td>-19898.194847</td>\n",
       "      <td>-19927.193539</td>\n",
       "      <td>-14168.261331</td>\n",
       "      <td>...</td>\n",
       "      <td>-9186.570733</td>\n",
       "      <td>-14120.92945</td>\n",
       "      <td>-22925.267978</td>\n",
       "      <td>-21013.055874</td>\n",
       "      <td>-28594.921186</td>\n",
       "      <td>-23151.393741</td>\n",
       "      <td>-17027.886977</td>\n",
       "      <td>-22088.418319</td>\n",
       "      <td>-3779.319575</td>\n",
       "      <td>NaN</td>\n",
       "    </tr>\n",
       "  </tbody>\n",
       "</table>\n",
       "<p>1 rows × 28 columns</p>\n",
       "</div>"
      ],
      "text/plain": [
       "                                    1993          1994         1995  \\\n",
       "variables                                                             \n",
       "Saldo Balanza Pagos(millones€) -20811.96 -23809.775697 -1177.127748   \n",
       "\n",
       "                                       1996         1997          1998  \\\n",
       "variables                                                                \n",
       "Saldo Balanza Pagos(millones€) -1986.386399 -7001.919949 -13635.340211   \n",
       "\n",
       "                                        1999          2000          2001  \\\n",
       "variables                                                                  \n",
       "Saldo Balanza Pagos(millones€) -13896.136892 -19898.194847 -19927.193539   \n",
       "\n",
       "                                        2002  ...          2011         2012  \\\n",
       "variables                                     ...                              \n",
       "Saldo Balanza Pagos(millones€) -14168.261331  ...  -9186.570733 -14120.92945   \n",
       "\n",
       "                                        2013          2014          2015  \\\n",
       "variables                                                                  \n",
       "Saldo Balanza Pagos(millones€) -22925.267978 -21013.055874 -28594.921186   \n",
       "\n",
       "                                        2016          2017          2018  \\\n",
       "variables                                                                  \n",
       "Saldo Balanza Pagos(millones€) -23151.393741 -17027.886977 -22088.418319   \n",
       "\n",
       "                                       2019  2020  \n",
       "variables                                          \n",
       "Saldo Balanza Pagos(millones€) -3779.319575   NaN  \n",
       "\n",
       "[1 rows x 28 columns]"
      ]
     },
     "execution_count": 13,
     "metadata": {},
     "output_type": "execute_result"
    }
   ],
   "source": [
    "df_balanzapagos = df_balanzapagos.mul(df, axis=0)\n",
    "df_balanzapagos.head()"
   ]
  },
  {
   "cell_type": "code",
   "execution_count": 15,
   "metadata": {},
   "outputs": [],
   "source": [
    "df_balanzapagos = df_balanzapagos.round(2)"
   ]
  },
  {
   "cell_type": "code",
   "execution_count": 16,
   "metadata": {},
   "outputs": [],
   "source": [
    "df_balanzapagos = df_balanzapagos.transpose()"
   ]
  },
  {
   "cell_type": "code",
   "execution_count": 17,
   "metadata": {},
   "outputs": [
    {
     "data": {
      "text/html": [
       "<div>\n",
       "<style scoped>\n",
       "    .dataframe tbody tr th:only-of-type {\n",
       "        vertical-align: middle;\n",
       "    }\n",
       "\n",
       "    .dataframe tbody tr th {\n",
       "        vertical-align: top;\n",
       "    }\n",
       "\n",
       "    .dataframe thead th {\n",
       "        text-align: right;\n",
       "    }\n",
       "</style>\n",
       "<table border=\"1\" class=\"dataframe\">\n",
       "  <thead>\n",
       "    <tr style=\"text-align: right;\">\n",
       "      <th>variables</th>\n",
       "      <th>Saldo Balanza Pagos(millones€)</th>\n",
       "    </tr>\n",
       "  </thead>\n",
       "  <tbody>\n",
       "    <tr>\n",
       "      <th>count</th>\n",
       "      <td>27.000000</td>\n",
       "    </tr>\n",
       "    <tr>\n",
       "      <th>mean</th>\n",
       "      <td>-12895.250370</td>\n",
       "    </tr>\n",
       "    <tr>\n",
       "      <th>std</th>\n",
       "      <td>8094.275055</td>\n",
       "    </tr>\n",
       "    <tr>\n",
       "      <th>min</th>\n",
       "      <td>-28594.920000</td>\n",
       "    </tr>\n",
       "    <tr>\n",
       "      <th>25%</th>\n",
       "      <td>-20369.575000</td>\n",
       "    </tr>\n",
       "    <tr>\n",
       "      <th>50%</th>\n",
       "      <td>-13635.340000</td>\n",
       "    </tr>\n",
       "    <tr>\n",
       "      <th>75%</th>\n",
       "      <td>-6024.245000</td>\n",
       "    </tr>\n",
       "    <tr>\n",
       "      <th>max</th>\n",
       "      <td>-1177.130000</td>\n",
       "    </tr>\n",
       "  </tbody>\n",
       "</table>\n",
       "</div>"
      ],
      "text/plain": [
       "variables  Saldo Balanza Pagos(millones€)\n",
       "count                           27.000000\n",
       "mean                        -12895.250370\n",
       "std                           8094.275055\n",
       "min                         -28594.920000\n",
       "25%                         -20369.575000\n",
       "50%                         -13635.340000\n",
       "75%                          -6024.245000\n",
       "max                          -1177.130000"
      ]
     },
     "execution_count": 17,
     "metadata": {},
     "output_type": "execute_result"
    }
   ],
   "source": [
    "df_balanzapagos.describe()"
   ]
  },
  {
   "cell_type": "code",
   "execution_count": 18,
   "metadata": {},
   "outputs": [
    {
     "data": {
      "image/png": "[encoded data removed]",
      "text/plain": [
       "<Figure size 432x288 with 1 Axes>"
      ]
     },
     "metadata": {},
     "output_type": "display_data"
    }
   ],
   "source": [
    "sns.set_theme(style=\"whitegrid\")\n",
    "ax = sns.boxplot(x=df_balanzapagos[\"Saldo Balanza Pagos(millones€)\"])"
   ]
  },
  {
   "cell_type": "code",
   "execution_count": 19,
   "metadata": {},
   "outputs": [
    {
     "data": {
      "text/plain": [
       "<seaborn.axisgrid.FacetGrid at 0x7fd079241f10>"
      ]
     },
     "execution_count": 19,
     "metadata": {},
     "output_type": "execute_result"
    },
    {
     "data": {
      "image/png": "[encoded data removed]",
      "text/plain": [
       "<Figure size 558.725x360 with 1 Axes>"
      ]
     },
     "metadata": {},
     "output_type": "display_data"
    }
   ],
   "source": [
    "sns.displot(df_balanzapagos, bins=10)"
   ]
  },
  {
   "cell_type": "code",
   "execution_count": 20,
   "metadata": {},
   "outputs": [
    {
     "data": {
      "text/plain": [
       "Text(0.5, 1.0, 'Evolución de la balanza de pagos de México')"
      ]
     },
     "execution_count": 20,
     "metadata": {},
     "output_type": "execute_result"
    },
    {
     "data": {
      "image/png": "[encoded data removed]",
      "text/plain": [
       "<Figure size 1440x360 with 1 Axes>"
      ]
     },
     "metadata": {},
     "output_type": "display_data"
    }
   ],
   "source": [
    "plt.figure(figsize=(20,5))\n",
    "sns.lineplot(data=df_balanzapagos)\n",
    "plt.title('Evolución de la balanza de pagos de México')"
   ]
  },
  {
   "cell_type": "code",
   "execution_count": 21,
   "metadata": {},
   "outputs": [
    {
     "data": {
      "text/plain": [
       "variables\n",
       "Saldo Balanza Pagos(millones€)   -348171.76\n",
       "dtype: float64"
      ]
     },
     "execution_count": 21,
     "metadata": {},
     "output_type": "execute_result"
    }
   ],
   "source": [
    "df_balanzapagos.sum()"
   ]
  },
  {
   "cell_type": "code",
   "execution_count": 22,
   "metadata": {},
   "outputs": [
    {
     "data": {
      "text/html": [
       "<div>\n",
       "<style scoped>\n",
       "    .dataframe tbody tr th:only-of-type {\n",
       "        vertical-align: middle;\n",
       "    }\n",
       "\n",
       "    .dataframe tbody tr th {\n",
       "        vertical-align: top;\n",
       "    }\n",
       "\n",
       "    .dataframe thead th {\n",
       "        text-align: right;\n",
       "    }\n",
       "</style>\n",
       "<table border=\"1\" class=\"dataframe\">\n",
       "  <thead>\n",
       "    <tr style=\"text-align: right;\">\n",
       "      <th>variables</th>\n",
       "      <th>Saldo Balanza Pagos(millones€)</th>\n",
       "    </tr>\n",
       "  </thead>\n",
       "  <tbody>\n",
       "    <tr>\n",
       "      <th>1995</th>\n",
       "      <td>-1177.13</td>\n",
       "    </tr>\n",
       "  </tbody>\n",
       "</table>\n",
       "</div>"
      ],
      "text/plain": [
       "variables  Saldo Balanza Pagos(millones€)\n",
       "1995                             -1177.13"
      ]
     },
     "execution_count": 22,
     "metadata": {},
     "output_type": "execute_result"
    }
   ],
   "source": [
    "df_balanzapagos.loc[df_balanzapagos['Saldo Balanza Pagos(millones€)']== df_balanzapagos['Saldo Balanza Pagos(millones€)'].max()]"
   ]
  },
  {
   "cell_type": "code",
   "execution_count": 23,
   "metadata": {},
   "outputs": [
    {
     "data": {
      "text/html": [
       "<div>\n",
       "<style scoped>\n",
       "    .dataframe tbody tr th:only-of-type {\n",
       "        vertical-align: middle;\n",
       "    }\n",
       "\n",
       "    .dataframe tbody tr th {\n",
       "        vertical-align: top;\n",
       "    }\n",
       "\n",
       "    .dataframe thead th {\n",
       "        text-align: right;\n",
       "    }\n",
       "</style>\n",
       "<table border=\"1\" class=\"dataframe\">\n",
       "  <thead>\n",
       "    <tr style=\"text-align: right;\">\n",
       "      <th>variables</th>\n",
       "      <th>Saldo Balanza Pagos(millones€)</th>\n",
       "    </tr>\n",
       "  </thead>\n",
       "  <tbody>\n",
       "    <tr>\n",
       "      <th>2015</th>\n",
       "      <td>-28594.92</td>\n",
       "    </tr>\n",
       "  </tbody>\n",
       "</table>\n",
       "</div>"
      ],
      "text/plain": [
       "variables  Saldo Balanza Pagos(millones€)\n",
       "2015                            -28594.92"
      ]
     },
     "execution_count": 23,
     "metadata": {},
     "output_type": "execute_result"
    }
   ],
   "source": [
    "df_balanzapagos.loc[df_balanzapagos['Saldo Balanza Pagos(millones€)']== df_balanzapagos['Saldo Balanza Pagos(millones€)'].min()]"
   ]
  },
  {
   "cell_type": "code",
   "execution_count": 25,
   "metadata": {},
   "outputs": [
    {
     "name": "stdout",
     "output_type": "stream",
     "text": [
      "Stored 'df_balanzapagos' (DataFrame)\n"
     ]
    }
   ],
   "source": [
    "%store df_balanzapagos"
   ]
  }
 ],
 "metadata": {
  "kernelspec": {
   "display_name": "Python 3",
   "language": "python",
   "name": "python3"
  },
  "language_info": {
   "codemirror_mode": {
    "name": "ipython",
    "version": 3
   },
   "file_extension": ".py",
   "mimetype": "text/x-python",
   "name": "python",
   "nbconvert_exporter": "python",
   "pygments_lexer": "ipython3",
   "version": "3.7.9"
  }
 },
 "nbformat": 4,
 "nbformat_minor": 4
}

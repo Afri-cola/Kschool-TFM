{
 "cells": [
  {
   "cell_type": "markdown",
   "metadata": {},
   "source": [
    "## Exportaciones\n",
    "\n",
    "- DataFrame --> df_export"
   ]
  },
  {
   "cell_type": "code",
   "execution_count": 1,
   "metadata": {},
   "outputs": [],
   "source": [
    "import pandas as pd\n",
    "import numpy as np\n",
    "import seaborn as sns\n",
    "import matplotlib.pyplot as plt"
   ]
  },
  {
   "cell_type": "code",
   "execution_count": 2,
   "metadata": {},
   "outputs": [
    {
     "data": {
      "text/html": [
       "<div>\n",
       "<style scoped>\n",
       "    .dataframe tbody tr th:only-of-type {\n",
       "        vertical-align: middle;\n",
       "    }\n",
       "\n",
       "    .dataframe tbody tr th {\n",
       "        vertical-align: top;\n",
       "    }\n",
       "\n",
       "    .dataframe thead th {\n",
       "        text-align: right;\n",
       "    }\n",
       "</style>\n",
       "<table border=\"1\" class=\"dataframe\">\n",
       "  <thead>\n",
       "    <tr style=\"text-align: right;\">\n",
       "      <th></th>\n",
       "      <th>Unnamed: 0</th>\n",
       "      <th>1993</th>\n",
       "      <th>1994</th>\n",
       "      <th>1995</th>\n",
       "      <th>1996</th>\n",
       "      <th>1997</th>\n",
       "      <th>1998</th>\n",
       "      <th>1999</th>\n",
       "      <th>2000</th>\n",
       "      <th>2001</th>\n",
       "      <th>...</th>\n",
       "      <th>2011</th>\n",
       "      <th>2012</th>\n",
       "      <th>2013</th>\n",
       "      <th>2014</th>\n",
       "      <th>2015</th>\n",
       "      <th>2016</th>\n",
       "      <th>2017</th>\n",
       "      <th>2018</th>\n",
       "      <th>2019</th>\n",
       "      <th>2020</th>\n",
       "    </tr>\n",
       "  </thead>\n",
       "  <tbody>\n",
       "    <tr>\n",
       "      <th>0</th>\n",
       "      <td>Tipo de cambio</td>\n",
       "      <td>0.8894</td>\n",
       "      <td>0.8027</td>\n",
       "      <td>0.7467</td>\n",
       "      <td>0.7921</td>\n",
       "      <td>0.9135</td>\n",
       "      <td>0.8526</td>\n",
       "      <td>0.9926</td>\n",
       "      <td>1.0611</td>\n",
       "      <td>1.1225</td>\n",
       "      <td>...</td>\n",
       "      <td>0.7727</td>\n",
       "      <td>0.7577</td>\n",
       "      <td>0.7274</td>\n",
       "      <td>0.8264</td>\n",
       "      <td>0.9207</td>\n",
       "      <td>0.9507</td>\n",
       "      <td>0.8333</td>\n",
       "      <td>0.8717</td>\n",
       "      <td>0.8917</td>\n",
       "      <td>0.8185</td>\n",
       "    </tr>\n",
       "  </tbody>\n",
       "</table>\n",
       "<p>1 rows × 29 columns</p>\n",
       "</div>"
      ],
      "text/plain": [
       "       Unnamed: 0    1993    1994    1995    1996    1997    1998    1999  \\\n",
       "0  Tipo de cambio  0.8894  0.8027  0.7467  0.7921  0.9135  0.8526  0.9926   \n",
       "\n",
       "     2000    2001   ...      2011    2012    2013    2014    2015    2016  \\\n",
       "0  1.0611  1.1225   ...    0.7727  0.7577  0.7274  0.8264  0.9207  0.9507   \n",
       "\n",
       "     2017    2018    2019    2020  \n",
       "0  0.8333  0.8717  0.8917  0.8185  \n",
       "\n",
       "[1 rows x 29 columns]"
      ]
     },
     "execution_count": 2,
     "metadata": {},
     "output_type": "execute_result"
    }
   ],
   "source": [
    "root = 'Tipo de cambio- Dolar a Euro.csv'\n",
    "\n",
    "df = pd.read_csv(root)\n",
    "df.head()"
   ]
  },
  {
   "cell_type": "code",
   "execution_count": 3,
   "metadata": {},
   "outputs": [],
   "source": [
    "df.rename(columns={'Unnamed: 0' : 'variables'}, inplace=True)"
   ]
  },
  {
   "cell_type": "code",
   "execution_count": 4,
   "metadata": {},
   "outputs": [],
   "source": [
    "df= df.replace({'Tipo de cambio': 'Exportaciones(millones€)'})"
   ]
  },
  {
   "cell_type": "code",
   "execution_count": 5,
   "metadata": {},
   "outputs": [
    {
     "data": {
      "text/html": [
       "<div>\n",
       "<style scoped>\n",
       "    .dataframe tbody tr th:only-of-type {\n",
       "        vertical-align: middle;\n",
       "    }\n",
       "\n",
       "    .dataframe tbody tr th {\n",
       "        vertical-align: top;\n",
       "    }\n",
       "\n",
       "    .dataframe thead th {\n",
       "        text-align: right;\n",
       "    }\n",
       "</style>\n",
       "<table border=\"1\" class=\"dataframe\">\n",
       "  <thead>\n",
       "    <tr style=\"text-align: right;\">\n",
       "      <th></th>\n",
       "      <th>country</th>\n",
       "      <th>variables</th>\n",
       "      <th>1993</th>\n",
       "      <th>1994</th>\n",
       "      <th>1995</th>\n",
       "      <th>1996</th>\n",
       "      <th>1997</th>\n",
       "      <th>1998</th>\n",
       "      <th>1999</th>\n",
       "      <th>2000</th>\n",
       "      <th>...</th>\n",
       "      <th>2011</th>\n",
       "      <th>2012</th>\n",
       "      <th>2013</th>\n",
       "      <th>2014</th>\n",
       "      <th>2015</th>\n",
       "      <th>2016</th>\n",
       "      <th>2017</th>\n",
       "      <th>2018</th>\n",
       "      <th>2019</th>\n",
       "      <th>2020</th>\n",
       "    </tr>\n",
       "  </thead>\n",
       "  <tbody>\n",
       "    <tr>\n",
       "      <th>152</th>\n",
       "      <td>MEXICO</td>\n",
       "      <td>Exportaciones(millones€)</td>\n",
       "      <td>5.188600e+10</td>\n",
       "      <td>6.088200e+10</td>\n",
       "      <td>7.954200e+10</td>\n",
       "      <td>9.600000e+10</td>\n",
       "      <td>1.104310e+11</td>\n",
       "      <td>1.174600e+11</td>\n",
       "      <td>1.363910e+11</td>\n",
       "      <td>1.663670e+11</td>\n",
       "      <td>...</td>\n",
       "      <td>3.495690e+11</td>\n",
       "      <td>3.707700e+11</td>\n",
       "      <td>3.800150e+11</td>\n",
       "      <td>3.969120e+11</td>\n",
       "      <td>3.805500e+11</td>\n",
       "      <td>3.739480e+11</td>\n",
       "      <td>4.094330e+11</td>\n",
       "      <td>4.507130e+11</td>\n",
       "      <td>4.607040e+11</td>\n",
       "      <td>NaN</td>\n",
       "    </tr>\n",
       "  </tbody>\n",
       "</table>\n",
       "<p>1 rows × 30 columns</p>\n",
       "</div>"
      ],
      "text/plain": [
       "    country                 variables          1993          1994  \\\n",
       "152  MEXICO  Exportaciones(millones€)  5.188600e+10  6.088200e+10   \n",
       "\n",
       "             1995          1996          1997          1998          1999  \\\n",
       "152  7.954200e+10  9.600000e+10  1.104310e+11  1.174600e+11  1.363910e+11   \n",
       "\n",
       "             2000  ...           2011          2012          2013  \\\n",
       "152  1.663670e+11  ...   3.495690e+11  3.707700e+11  3.800150e+11   \n",
       "\n",
       "             2014          2015          2016          2017          2018  \\\n",
       "152  3.969120e+11  3.805500e+11  3.739480e+11  4.094330e+11  4.507130e+11   \n",
       "\n",
       "             2019  2020  \n",
       "152  4.607040e+11   NaN  \n",
       "\n",
       "[1 rows x 30 columns]"
      ]
     },
     "execution_count": 5,
     "metadata": {},
     "output_type": "execute_result"
    }
   ],
   "source": [
    "root_2 = 'Variables_economicas/Exportaciones.csv'\n",
    "\n",
    "df_export = pd.read_csv(root_2, header=0)\n",
    "df_export.rename(columns={'Country Name':'country', 'Indicator Name':'variables' }, inplace=True)\n",
    "df_export = df_export[df_export.country == 'México']\n",
    "df_export = df_export.drop(['Indicator Code', 'Country Code'], axis=1)\n",
    "df_export['country'] = df_export['country'].replace('México', 'MEXICO')\n",
    "df_export= df_export.replace({'Exportaciones de mercaderías (US$ a precios actuales)': 'Exportaciones(millones€)'})\n",
    "\n",
    "\n",
    "\n",
    "df_export.head()\n"
   ]
  },
  {
   "cell_type": "code",
   "execution_count": 6,
   "metadata": {},
   "outputs": [],
   "source": [
    "df_export = df_export.drop(['country'], axis=1)"
   ]
  },
  {
   "cell_type": "code",
   "execution_count": 7,
   "metadata": {},
   "outputs": [],
   "source": [
    "df_export.set_index('variables', inplace=True)"
   ]
  },
  {
   "cell_type": "code",
   "execution_count": 8,
   "metadata": {},
   "outputs": [
    {
     "data": {
      "text/html": [
       "<div>\n",
       "<style scoped>\n",
       "    .dataframe tbody tr th:only-of-type {\n",
       "        vertical-align: middle;\n",
       "    }\n",
       "\n",
       "    .dataframe tbody tr th {\n",
       "        vertical-align: top;\n",
       "    }\n",
       "\n",
       "    .dataframe thead th {\n",
       "        text-align: right;\n",
       "    }\n",
       "</style>\n",
       "<table border=\"1\" class=\"dataframe\">\n",
       "  <thead>\n",
       "    <tr style=\"text-align: right;\">\n",
       "      <th></th>\n",
       "      <th>1993</th>\n",
       "      <th>1994</th>\n",
       "      <th>1995</th>\n",
       "      <th>1996</th>\n",
       "      <th>1997</th>\n",
       "      <th>1998</th>\n",
       "      <th>1999</th>\n",
       "      <th>2000</th>\n",
       "      <th>2001</th>\n",
       "      <th>2002</th>\n",
       "      <th>...</th>\n",
       "      <th>2011</th>\n",
       "      <th>2012</th>\n",
       "      <th>2013</th>\n",
       "      <th>2014</th>\n",
       "      <th>2015</th>\n",
       "      <th>2016</th>\n",
       "      <th>2017</th>\n",
       "      <th>2018</th>\n",
       "      <th>2019</th>\n",
       "      <th>2020</th>\n",
       "    </tr>\n",
       "    <tr>\n",
       "      <th>variables</th>\n",
       "      <th></th>\n",
       "      <th></th>\n",
       "      <th></th>\n",
       "      <th></th>\n",
       "      <th></th>\n",
       "      <th></th>\n",
       "      <th></th>\n",
       "      <th></th>\n",
       "      <th></th>\n",
       "      <th></th>\n",
       "      <th></th>\n",
       "      <th></th>\n",
       "      <th></th>\n",
       "      <th></th>\n",
       "      <th></th>\n",
       "      <th></th>\n",
       "      <th></th>\n",
       "      <th></th>\n",
       "      <th></th>\n",
       "      <th></th>\n",
       "      <th></th>\n",
       "    </tr>\n",
       "  </thead>\n",
       "  <tbody>\n",
       "    <tr>\n",
       "      <th>Exportaciones(millones€)</th>\n",
       "      <td>5.188600e+10</td>\n",
       "      <td>6.088200e+10</td>\n",
       "      <td>7.954200e+10</td>\n",
       "      <td>9.600000e+10</td>\n",
       "      <td>1.104310e+11</td>\n",
       "      <td>1.174600e+11</td>\n",
       "      <td>1.363910e+11</td>\n",
       "      <td>1.663670e+11</td>\n",
       "      <td>1.585470e+11</td>\n",
       "      <td>1.606820e+11</td>\n",
       "      <td>...</td>\n",
       "      <td>3.495690e+11</td>\n",
       "      <td>3.707700e+11</td>\n",
       "      <td>3.800150e+11</td>\n",
       "      <td>3.969120e+11</td>\n",
       "      <td>3.805500e+11</td>\n",
       "      <td>3.739480e+11</td>\n",
       "      <td>4.094330e+11</td>\n",
       "      <td>4.507130e+11</td>\n",
       "      <td>4.607040e+11</td>\n",
       "      <td>NaN</td>\n",
       "    </tr>\n",
       "  </tbody>\n",
       "</table>\n",
       "<p>1 rows × 28 columns</p>\n",
       "</div>"
      ],
      "text/plain": [
       "                                  1993          1994          1995  \\\n",
       "variables                                                            \n",
       "Exportaciones(millones€)  5.188600e+10  6.088200e+10  7.954200e+10   \n",
       "\n",
       "                                  1996          1997          1998  \\\n",
       "variables                                                            \n",
       "Exportaciones(millones€)  9.600000e+10  1.104310e+11  1.174600e+11   \n",
       "\n",
       "                                  1999          2000          2001  \\\n",
       "variables                                                            \n",
       "Exportaciones(millones€)  1.363910e+11  1.663670e+11  1.585470e+11   \n",
       "\n",
       "                                  2002  ...           2011          2012  \\\n",
       "variables                               ...                                \n",
       "Exportaciones(millones€)  1.606820e+11  ...   3.495690e+11  3.707700e+11   \n",
       "\n",
       "                                  2013          2014          2015  \\\n",
       "variables                                                            \n",
       "Exportaciones(millones€)  3.800150e+11  3.969120e+11  3.805500e+11   \n",
       "\n",
       "                                  2016          2017          2018  \\\n",
       "variables                                                            \n",
       "Exportaciones(millones€)  3.739480e+11  4.094330e+11  4.507130e+11   \n",
       "\n",
       "                                  2019  2020  \n",
       "variables                                     \n",
       "Exportaciones(millones€)  4.607040e+11   NaN  \n",
       "\n",
       "[1 rows x 28 columns]"
      ]
     },
     "execution_count": 8,
     "metadata": {},
     "output_type": "execute_result"
    }
   ],
   "source": [
    "df_export.head()"
   ]
  },
  {
   "cell_type": "code",
   "execution_count": 9,
   "metadata": {},
   "outputs": [
    {
     "data": {
      "text/html": [
       "<div>\n",
       "<style scoped>\n",
       "    .dataframe tbody tr th:only-of-type {\n",
       "        vertical-align: middle;\n",
       "    }\n",
       "\n",
       "    .dataframe tbody tr th {\n",
       "        vertical-align: top;\n",
       "    }\n",
       "\n",
       "    .dataframe thead th {\n",
       "        text-align: right;\n",
       "    }\n",
       "</style>\n",
       "<table border=\"1\" class=\"dataframe\">\n",
       "  <thead>\n",
       "    <tr style=\"text-align: right;\">\n",
       "      <th></th>\n",
       "      <th>1993</th>\n",
       "      <th>1994</th>\n",
       "      <th>1995</th>\n",
       "      <th>1996</th>\n",
       "      <th>1997</th>\n",
       "      <th>1998</th>\n",
       "      <th>1999</th>\n",
       "      <th>2000</th>\n",
       "      <th>2001</th>\n",
       "      <th>2002</th>\n",
       "      <th>...</th>\n",
       "      <th>2011</th>\n",
       "      <th>2012</th>\n",
       "      <th>2013</th>\n",
       "      <th>2014</th>\n",
       "      <th>2015</th>\n",
       "      <th>2016</th>\n",
       "      <th>2017</th>\n",
       "      <th>2018</th>\n",
       "      <th>2019</th>\n",
       "      <th>2020</th>\n",
       "    </tr>\n",
       "    <tr>\n",
       "      <th>variables</th>\n",
       "      <th></th>\n",
       "      <th></th>\n",
       "      <th></th>\n",
       "      <th></th>\n",
       "      <th></th>\n",
       "      <th></th>\n",
       "      <th></th>\n",
       "      <th></th>\n",
       "      <th></th>\n",
       "      <th></th>\n",
       "      <th></th>\n",
       "      <th></th>\n",
       "      <th></th>\n",
       "      <th></th>\n",
       "      <th></th>\n",
       "      <th></th>\n",
       "      <th></th>\n",
       "      <th></th>\n",
       "      <th></th>\n",
       "      <th></th>\n",
       "      <th></th>\n",
       "    </tr>\n",
       "  </thead>\n",
       "  <tbody>\n",
       "    <tr>\n",
       "      <th>Exportaciones(millones€)</th>\n",
       "      <td>51886.0</td>\n",
       "      <td>60882.0</td>\n",
       "      <td>79542.0</td>\n",
       "      <td>96000.0</td>\n",
       "      <td>110431.0</td>\n",
       "      <td>117460.0</td>\n",
       "      <td>136391.0</td>\n",
       "      <td>166367.0</td>\n",
       "      <td>158547.0</td>\n",
       "      <td>160682.0</td>\n",
       "      <td>...</td>\n",
       "      <td>349569.0</td>\n",
       "      <td>370770.0</td>\n",
       "      <td>380015.0</td>\n",
       "      <td>396912.0</td>\n",
       "      <td>380550.0</td>\n",
       "      <td>373948.0</td>\n",
       "      <td>409433.0</td>\n",
       "      <td>450713.0</td>\n",
       "      <td>460704.0</td>\n",
       "      <td>NaN</td>\n",
       "    </tr>\n",
       "  </tbody>\n",
       "</table>\n",
       "<p>1 rows × 28 columns</p>\n",
       "</div>"
      ],
      "text/plain": [
       "                             1993     1994     1995     1996      1997  \\\n",
       "variables                                                                \n",
       "Exportaciones(millones€)  51886.0  60882.0  79542.0  96000.0  110431.0   \n",
       "\n",
       "                              1998      1999      2000      2001      2002  \\\n",
       "variables                                                                    \n",
       "Exportaciones(millones€)  117460.0  136391.0  166367.0  158547.0  160682.0   \n",
       "\n",
       "                          ...       2011      2012      2013      2014  \\\n",
       "variables                 ...                                            \n",
       "Exportaciones(millones€)  ...   349569.0  370770.0  380015.0  396912.0   \n",
       "\n",
       "                              2015      2016      2017      2018      2019  \\\n",
       "variables                                                                    \n",
       "Exportaciones(millones€)  380550.0  373948.0  409433.0  450713.0  460704.0   \n",
       "\n",
       "                          2020  \n",
       "variables                       \n",
       "Exportaciones(millones€)   NaN  \n",
       "\n",
       "[1 rows x 28 columns]"
      ]
     },
     "execution_count": 9,
     "metadata": {},
     "output_type": "execute_result"
    }
   ],
   "source": [
    "df_export = df_export.div(1000000)\n",
    "df_export.head()"
   ]
  },
  {
   "cell_type": "code",
   "execution_count": 10,
   "metadata": {},
   "outputs": [
    {
     "data": {
      "text/html": [
       "<div>\n",
       "<style scoped>\n",
       "    .dataframe tbody tr th:only-of-type {\n",
       "        vertical-align: middle;\n",
       "    }\n",
       "\n",
       "    .dataframe tbody tr th {\n",
       "        vertical-align: top;\n",
       "    }\n",
       "\n",
       "    .dataframe thead th {\n",
       "        text-align: right;\n",
       "    }\n",
       "</style>\n",
       "<table border=\"1\" class=\"dataframe\">\n",
       "  <thead>\n",
       "    <tr style=\"text-align: right;\">\n",
       "      <th></th>\n",
       "      <th>1993</th>\n",
       "      <th>1994</th>\n",
       "      <th>1995</th>\n",
       "      <th>1996</th>\n",
       "      <th>1997</th>\n",
       "      <th>1998</th>\n",
       "      <th>1999</th>\n",
       "      <th>2000</th>\n",
       "      <th>2001</th>\n",
       "      <th>2002</th>\n",
       "      <th>...</th>\n",
       "      <th>2011</th>\n",
       "      <th>2012</th>\n",
       "      <th>2013</th>\n",
       "      <th>2014</th>\n",
       "      <th>2015</th>\n",
       "      <th>2016</th>\n",
       "      <th>2017</th>\n",
       "      <th>2018</th>\n",
       "      <th>2019</th>\n",
       "      <th>2020</th>\n",
       "    </tr>\n",
       "    <tr>\n",
       "      <th>variables</th>\n",
       "      <th></th>\n",
       "      <th></th>\n",
       "      <th></th>\n",
       "      <th></th>\n",
       "      <th></th>\n",
       "      <th></th>\n",
       "      <th></th>\n",
       "      <th></th>\n",
       "      <th></th>\n",
       "      <th></th>\n",
       "      <th></th>\n",
       "      <th></th>\n",
       "      <th></th>\n",
       "      <th></th>\n",
       "      <th></th>\n",
       "      <th></th>\n",
       "      <th></th>\n",
       "      <th></th>\n",
       "      <th></th>\n",
       "      <th></th>\n",
       "      <th></th>\n",
       "    </tr>\n",
       "  </thead>\n",
       "  <tbody>\n",
       "    <tr>\n",
       "      <th>Exportaciones(millones€)</th>\n",
       "      <td>0.8894</td>\n",
       "      <td>0.8027</td>\n",
       "      <td>0.7467</td>\n",
       "      <td>0.7921</td>\n",
       "      <td>0.9135</td>\n",
       "      <td>0.8526</td>\n",
       "      <td>0.9926</td>\n",
       "      <td>1.0611</td>\n",
       "      <td>1.1225</td>\n",
       "      <td>0.9524</td>\n",
       "      <td>...</td>\n",
       "      <td>0.7727</td>\n",
       "      <td>0.7577</td>\n",
       "      <td>0.7274</td>\n",
       "      <td>0.8264</td>\n",
       "      <td>0.9207</td>\n",
       "      <td>0.9507</td>\n",
       "      <td>0.8333</td>\n",
       "      <td>0.8717</td>\n",
       "      <td>0.8917</td>\n",
       "      <td>0.8185</td>\n",
       "    </tr>\n",
       "  </tbody>\n",
       "</table>\n",
       "<p>1 rows × 28 columns</p>\n",
       "</div>"
      ],
      "text/plain": [
       "                            1993    1994    1995    1996    1997    1998  \\\n",
       "variables                                                                  \n",
       "Exportaciones(millones€)  0.8894  0.8027  0.7467  0.7921  0.9135  0.8526   \n",
       "\n",
       "                            1999    2000    2001    2002   ...      2011  \\\n",
       "variables                                                  ...             \n",
       "Exportaciones(millones€)  0.9926  1.0611  1.1225  0.9524   ...    0.7727   \n",
       "\n",
       "                            2012    2013    2014    2015    2016    2017  \\\n",
       "variables                                                                  \n",
       "Exportaciones(millones€)  0.7577  0.7274  0.8264  0.9207  0.9507  0.8333   \n",
       "\n",
       "                            2018    2019    2020  \n",
       "variables                                         \n",
       "Exportaciones(millones€)  0.8717  0.8917  0.8185  \n",
       "\n",
       "[1 rows x 28 columns]"
      ]
     },
     "execution_count": 10,
     "metadata": {},
     "output_type": "execute_result"
    }
   ],
   "source": [
    "df.set_index('variables', inplace=True)\n",
    "df.head()"
   ]
  },
  {
   "cell_type": "code",
   "execution_count": 11,
   "metadata": {},
   "outputs": [
    {
     "data": {
      "text/html": [
       "<div>\n",
       "<style scoped>\n",
       "    .dataframe tbody tr th:only-of-type {\n",
       "        vertical-align: middle;\n",
       "    }\n",
       "\n",
       "    .dataframe tbody tr th {\n",
       "        vertical-align: top;\n",
       "    }\n",
       "\n",
       "    .dataframe thead th {\n",
       "        text-align: right;\n",
       "    }\n",
       "</style>\n",
       "<table border=\"1\" class=\"dataframe\">\n",
       "  <thead>\n",
       "    <tr style=\"text-align: right;\">\n",
       "      <th></th>\n",
       "      <th>1993</th>\n",
       "      <th>1994</th>\n",
       "      <th>1995</th>\n",
       "      <th>1996</th>\n",
       "      <th>1997</th>\n",
       "      <th>1998</th>\n",
       "      <th>1999</th>\n",
       "      <th>2000</th>\n",
       "      <th>2001</th>\n",
       "      <th>2002</th>\n",
       "      <th>...</th>\n",
       "      <th>2011</th>\n",
       "      <th>2012</th>\n",
       "      <th>2013</th>\n",
       "      <th>2014</th>\n",
       "      <th>2015</th>\n",
       "      <th>2016</th>\n",
       "      <th>2017</th>\n",
       "      <th>2018</th>\n",
       "      <th>2019</th>\n",
       "      <th>2020</th>\n",
       "    </tr>\n",
       "    <tr>\n",
       "      <th>variables</th>\n",
       "      <th></th>\n",
       "      <th></th>\n",
       "      <th></th>\n",
       "      <th></th>\n",
       "      <th></th>\n",
       "      <th></th>\n",
       "      <th></th>\n",
       "      <th></th>\n",
       "      <th></th>\n",
       "      <th></th>\n",
       "      <th></th>\n",
       "      <th></th>\n",
       "      <th></th>\n",
       "      <th></th>\n",
       "      <th></th>\n",
       "      <th></th>\n",
       "      <th></th>\n",
       "      <th></th>\n",
       "      <th></th>\n",
       "      <th></th>\n",
       "      <th></th>\n",
       "    </tr>\n",
       "  </thead>\n",
       "  <tbody>\n",
       "    <tr>\n",
       "      <th>Exportaciones(millones€)</th>\n",
       "      <td>46147.4084</td>\n",
       "      <td>48869.9814</td>\n",
       "      <td>59394.0114</td>\n",
       "      <td>76041.6</td>\n",
       "      <td>100878.7185</td>\n",
       "      <td>100146.396</td>\n",
       "      <td>135381.7066</td>\n",
       "      <td>176532.0237</td>\n",
       "      <td>177969.0075</td>\n",
       "      <td>153033.5368</td>\n",
       "      <td>...</td>\n",
       "      <td>270111.9663</td>\n",
       "      <td>280932.429</td>\n",
       "      <td>276422.911</td>\n",
       "      <td>328008.0768</td>\n",
       "      <td>350372.385</td>\n",
       "      <td>355512.3636</td>\n",
       "      <td>341180.5189</td>\n",
       "      <td>392886.5221</td>\n",
       "      <td>410809.7568</td>\n",
       "      <td>NaN</td>\n",
       "    </tr>\n",
       "  </tbody>\n",
       "</table>\n",
       "<p>1 rows × 28 columns</p>\n",
       "</div>"
      ],
      "text/plain": [
       "                                1993        1994        1995     1996  \\\n",
       "variables                                                               \n",
       "Exportaciones(millones€)  46147.4084  48869.9814  59394.0114  76041.6   \n",
       "\n",
       "                                 1997        1998         1999         2000  \\\n",
       "variables                                                                     \n",
       "Exportaciones(millones€)  100878.7185  100146.396  135381.7066  176532.0237   \n",
       "\n",
       "                                 2001         2002  ...          2011  \\\n",
       "variables                                           ...                 \n",
       "Exportaciones(millones€)  177969.0075  153033.5368  ...   270111.9663   \n",
       "\n",
       "                                2012        2013         2014        2015  \\\n",
       "variables                                                                   \n",
       "Exportaciones(millones€)  280932.429  276422.911  328008.0768  350372.385   \n",
       "\n",
       "                                 2016         2017         2018         2019  \\\n",
       "variables                                                                      \n",
       "Exportaciones(millones€)  355512.3636  341180.5189  392886.5221  410809.7568   \n",
       "\n",
       "                          2020  \n",
       "variables                       \n",
       "Exportaciones(millones€)   NaN  \n",
       "\n",
       "[1 rows x 28 columns]"
      ]
     },
     "execution_count": 11,
     "metadata": {},
     "output_type": "execute_result"
    }
   ],
   "source": [
    "df_export = df_export.mul(df, axis=0)\n",
    "df_export.head()"
   ]
  },
  {
   "cell_type": "code",
   "execution_count": 12,
   "metadata": {},
   "outputs": [],
   "source": [
    "df_export = df_export.round(2)"
   ]
  },
  {
   "cell_type": "code",
   "execution_count": 13,
   "metadata": {},
   "outputs": [],
   "source": [
    "df_export = df_export.transpose()"
   ]
  },
  {
   "cell_type": "code",
   "execution_count": 14,
   "metadata": {},
   "outputs": [
    {
     "data": {
      "text/html": [
       "<div>\n",
       "<style scoped>\n",
       "    .dataframe tbody tr th:only-of-type {\n",
       "        vertical-align: middle;\n",
       "    }\n",
       "\n",
       "    .dataframe tbody tr th {\n",
       "        vertical-align: top;\n",
       "    }\n",
       "\n",
       "    .dataframe thead th {\n",
       "        text-align: right;\n",
       "    }\n",
       "</style>\n",
       "<table border=\"1\" class=\"dataframe\">\n",
       "  <thead>\n",
       "    <tr style=\"text-align: right;\">\n",
       "      <th>variables</th>\n",
       "      <th>Exportaciones(millones€)</th>\n",
       "    </tr>\n",
       "  </thead>\n",
       "  <tbody>\n",
       "    <tr>\n",
       "      <th>count</th>\n",
       "      <td>27.000000</td>\n",
       "    </tr>\n",
       "    <tr>\n",
       "      <th>mean</th>\n",
       "      <td>203661.759630</td>\n",
       "    </tr>\n",
       "    <tr>\n",
       "      <th>std</th>\n",
       "      <td>107749.560942</td>\n",
       "    </tr>\n",
       "    <tr>\n",
       "      <th>min</th>\n",
       "      <td>46147.410000</td>\n",
       "    </tr>\n",
       "    <tr>\n",
       "      <th>25%</th>\n",
       "      <td>133394.415000</td>\n",
       "    </tr>\n",
       "    <tr>\n",
       "      <th>50%</th>\n",
       "      <td>180833.550000</td>\n",
       "    </tr>\n",
       "    <tr>\n",
       "      <th>75%</th>\n",
       "      <td>278677.670000</td>\n",
       "    </tr>\n",
       "    <tr>\n",
       "      <th>max</th>\n",
       "      <td>410809.760000</td>\n",
       "    </tr>\n",
       "  </tbody>\n",
       "</table>\n",
       "</div>"
      ],
      "text/plain": [
       "variables  Exportaciones(millones€)\n",
       "count                     27.000000\n",
       "mean                  203661.759630\n",
       "std                   107749.560942\n",
       "min                    46147.410000\n",
       "25%                   133394.415000\n",
       "50%                   180833.550000\n",
       "75%                   278677.670000\n",
       "max                   410809.760000"
      ]
     },
     "execution_count": 14,
     "metadata": {},
     "output_type": "execute_result"
    }
   ],
   "source": [
    "df_export.describe()"
   ]
  },
  {
   "cell_type": "code",
   "execution_count": 17,
   "metadata": {},
   "outputs": [
    {
     "data": {
      "image/png": "[encoded data removed]",
      "text/plain": [
       "<Figure size 432x288 with 1 Axes>"
      ]
     },
     "metadata": {},
     "output_type": "display_data"
    }
   ],
   "source": [
    "sns.set_theme(style=\"whitegrid\")\n",
    "ax = sns.boxplot(x=df_export[\"Exportaciones(millones€)\"])"
   ]
  },
  {
   "cell_type": "code",
   "execution_count": 18,
   "metadata": {},
   "outputs": [
    {
     "data": {
      "text/plain": [
       "<seaborn.axisgrid.FacetGrid at 0x7f0c216f65d0>"
      ]
     },
     "execution_count": 18,
     "metadata": {},
     "output_type": "execute_result"
    },
    {
     "data": {
      "image/png": "[encoded data removed]",
      "text/plain": [
       "<Figure size 523.225x360 with 1 Axes>"
      ]
     },
     "metadata": {},
     "output_type": "display_data"
    }
   ],
   "source": [
    "sns.displot(df_export, bins=10)"
   ]
  },
  {
   "cell_type": "code",
   "execution_count": 19,
   "metadata": {},
   "outputs": [
    {
     "data": {
      "text/plain": [
       "Text(0.5, 1.0, 'Evolución de las exportaciones de México')"
      ]
     },
     "execution_count": 19,
     "metadata": {},
     "output_type": "execute_result"
    },
    {
     "data": {
      "image/png": "[encoded data removed]",
      "text/plain": [
       "<Figure size 1440x360 with 1 Axes>"
      ]
     },
     "metadata": {},
     "output_type": "display_data"
    }
   ],
   "source": [
    "plt.figure(figsize=(20,5))\n",
    "sns.lineplot(data=df_export)\n",
    "plt.title('Evolución de las exportaciones de México')"
   ]
  },
  {
   "cell_type": "code",
   "execution_count": 20,
   "metadata": {},
   "outputs": [
    {
     "data": {
      "text/plain": [
       "variables\n",
       "Exportaciones(millones€)    5498867.51\n",
       "dtype: float64"
      ]
     },
     "execution_count": 20,
     "metadata": {},
     "output_type": "execute_result"
    }
   ],
   "source": [
    "df_export.sum()"
   ]
  },
  {
   "cell_type": "code",
   "execution_count": 22,
   "metadata": {},
   "outputs": [
    {
     "data": {
      "text/html": [
       "<div>\n",
       "<style scoped>\n",
       "    .dataframe tbody tr th:only-of-type {\n",
       "        vertical-align: middle;\n",
       "    }\n",
       "\n",
       "    .dataframe tbody tr th {\n",
       "        vertical-align: top;\n",
       "    }\n",
       "\n",
       "    .dataframe thead th {\n",
       "        text-align: right;\n",
       "    }\n",
       "</style>\n",
       "<table border=\"1\" class=\"dataframe\">\n",
       "  <thead>\n",
       "    <tr style=\"text-align: right;\">\n",
       "      <th>variables</th>\n",
       "      <th>Exportaciones(millones€)</th>\n",
       "    </tr>\n",
       "  </thead>\n",
       "  <tbody>\n",
       "    <tr>\n",
       "      <th>2019</th>\n",
       "      <td>410809.76</td>\n",
       "    </tr>\n",
       "  </tbody>\n",
       "</table>\n",
       "</div>"
      ],
      "text/plain": [
       "variables  Exportaciones(millones€)\n",
       "2019                      410809.76"
      ]
     },
     "execution_count": 22,
     "metadata": {},
     "output_type": "execute_result"
    }
   ],
   "source": [
    "df_export.loc[df_export['Exportaciones(millones€)']== df_export['Exportaciones(millones€)'].max()]"
   ]
  },
  {
   "cell_type": "code",
   "execution_count": 23,
   "metadata": {},
   "outputs": [
    {
     "data": {
      "text/html": [
       "<div>\n",
       "<style scoped>\n",
       "    .dataframe tbody tr th:only-of-type {\n",
       "        vertical-align: middle;\n",
       "    }\n",
       "\n",
       "    .dataframe tbody tr th {\n",
       "        vertical-align: top;\n",
       "    }\n",
       "\n",
       "    .dataframe thead th {\n",
       "        text-align: right;\n",
       "    }\n",
       "</style>\n",
       "<table border=\"1\" class=\"dataframe\">\n",
       "  <thead>\n",
       "    <tr style=\"text-align: right;\">\n",
       "      <th>variables</th>\n",
       "      <th>Exportaciones(millones€)</th>\n",
       "    </tr>\n",
       "  </thead>\n",
       "  <tbody>\n",
       "    <tr>\n",
       "      <th>1993</th>\n",
       "      <td>46147.41</td>\n",
       "    </tr>\n",
       "  </tbody>\n",
       "</table>\n",
       "</div>"
      ],
      "text/plain": [
       "variables  Exportaciones(millones€)\n",
       "1993                       46147.41"
      ]
     },
     "execution_count": 23,
     "metadata": {},
     "output_type": "execute_result"
    }
   ],
   "source": [
    "df_export.loc[df_export['Exportaciones(millones€)']== df_export['Exportaciones(millones€)'].min()]"
   ]
  },
  {
   "cell_type": "code",
   "execution_count": 24,
   "metadata": {},
   "outputs": [
    {
     "name": "stdout",
     "output_type": "stream",
     "text": [
      "Stored 'df_export' (DataFrame)\n"
     ]
    }
   ],
   "source": [
    "%store df_export"
   ]
  },
  {
   "cell_type": "code",
   "execution_count": null,
   "metadata": {},
   "outputs": [],
   "source": []
  },
  {
   "cell_type": "code",
   "execution_count": null,
   "metadata": {},
   "outputs": [],
   "source": []
  },
  {
   "cell_type": "code",
   "execution_count": null,
   "metadata": {},
   "outputs": [],
   "source": []
  },
  {
   "cell_type": "code",
   "execution_count": null,
   "metadata": {},
   "outputs": [],
   "source": []
  },
  {
   "cell_type": "code",
   "execution_count": null,
   "metadata": {},
   "outputs": [],
   "source": []
  }
 ],
 "metadata": {
  "kernelspec": {
   "display_name": "Python 3",
   "language": "python",
   "name": "python3"
  },
  "language_info": {
   "codemirror_mode": {
    "name": "ipython",
    "version": 3
   },
   "file_extension": ".py",
   "mimetype": "text/x-python",
   "name": "python",
   "nbconvert_exporter": "python",
   "pygments_lexer": "ipython3",
   "version": "3.7.9"
  }
 },
 "nbformat": 4,
 "nbformat_minor": 4
}
